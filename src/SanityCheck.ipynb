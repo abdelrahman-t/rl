{
 "cells": [
  {
   "cell_type": "code",
   "execution_count": 1,
   "metadata": {},
   "outputs": [
    {
     "name": "stdout",
     "output_type": "stream",
     "text": [
      "Pixiedust database opened successfully\n"
     ]
    },
    {
     "data": {
      "text/html": [
       "\n",
       "        <div style=\"margin:10px\">\n",
       "            <a href=\"https://github.com/ibm-watson-data-lab/pixiedust\" target=\"_new\">\n",
       "                <img src=\"https://github.com/ibm-watson-data-lab/pixiedust/raw/master/docs/_static/pd_icon32.png\" style=\"float:left;margin-right:10px\"/>\n",
       "            </a>\n",
       "            <span>Pixiedust version 1.1.0.1</span>\n",
       "        </div>\n",
       "        "
      ],
      "text/plain": [
       "<IPython.core.display.HTML object>"
      ]
     },
     "metadata": {},
     "output_type": "display_data"
    },
    {
     "data": {
      "text/html": [
       "<div>Warning: You are not running the latest version of PixieDust. Current is 1.1.0.1, Latest is 1.1.2</div>"
      ],
      "text/plain": [
       "<IPython.core.display.HTML object>"
      ]
     },
     "metadata": {},
     "output_type": "display_data"
    },
    {
     "data": {
      "text/html": [
       "\n",
       "                <div>Please copy and run the following command in a new cell to upgrade: <span style=\"background-color:#ececec;font-family:monospace;padding:0 5px\">!pip install --user --upgrade pixiedust</span></div>\n",
       "            "
      ],
      "text/plain": [
       "<IPython.core.display.HTML object>"
      ]
     },
     "metadata": {},
     "output_type": "display_data"
    },
    {
     "data": {
      "text/html": [
       "<div>Please restart kernel after upgrading.</div>"
      ],
      "text/plain": [
       "<IPython.core.display.HTML object>"
      ]
     },
     "metadata": {},
     "output_type": "display_data"
    }
   ],
   "source": [
    "from functools import reduce\n",
    "from pyquaternion import Quaternion \n",
    "\n",
    "from pylab import *\n",
    "import pandas as pd\n",
    "\n",
    "np.random.seed=1\n",
    "%matplotlib inline\n",
    "\n",
    "import pixiedust\n",
    "\n",
    "import warnings\n",
    "warnings.filterwarnings(\"ignore\")"
   ]
  },
  {
   "cell_type": "markdown",
   "metadata": {},
   "source": [
    "## Helper functions"
   ]
  },
  {
   "cell_type": "code",
   "execution_count": 2,
   "metadata": {},
   "outputs": [],
   "source": [
    "def toEulerianAngle(q):\n",
    "    ysqr = q[2] * q[2]\n",
    "\n",
    "    t0 = +2.0 * (q[0] * q[1] + q[2] * q[3])\n",
    "    t1 = +1.0 - 2.0 * (q[1] * q[1] + ysqr)\n",
    "    roll = np.arctan2(t0, t1)\n",
    "\n",
    "    t2 = +2.0 * (q[0] * q[2] - q[3] * q[1])\n",
    "    t2 = 1.0 if t2 > 1.0 else t2\n",
    "    t2 = -1.0 if t2 < -1.0 else t2\n",
    "    pitch = np.arcsin(t2)\n",
    "\n",
    "    t3 = +2.0 * (q[0] * q[3] + q[1] * q[2])\n",
    "    t4 = +1.0 - 2.0 * (ysqr + q[3] * q[3])\n",
    "    yaw = np.arctan2(t3, t4)\n",
    "\n",
    "    return np.array([roll, pitch, yaw])\n",
    "\n",
    "\n",
    "def getRollPitchYaw(q):\n",
    "    return toEulerianAngle(q)\n",
    "\n",
    "\n",
    "def eulerToQuaternion(roll, pitch, yaw):\n",
    "    quaternion = [0] * 4\n",
    "    cosPhi_2 = np.cos(roll / 2)\n",
    "    sinPhi_2 = np.sin(roll / 2)\n",
    "    cosTheta_2 = np.cos(pitch / 2)\n",
    "    sinTheta_2 = np.sin(pitch / 2)\n",
    "    cosPsi_2 = np.cos(yaw / 2)\n",
    "    sinPsi_2 = np.sin(yaw / 2)\n",
    "\n",
    "    quaternion[0] = (cosPhi_2 * cosTheta_2 * cosPsi_2 +\n",
    "                     sinPhi_2 * sinTheta_2 * sinPsi_2)\n",
    "    quaternion[1] = (sinPhi_2 * cosTheta_2 * cosPsi_2 -\n",
    "                     cosPhi_2 * sinTheta_2 * sinPsi_2)\n",
    "    quaternion[2] = (cosPhi_2 * sinTheta_2 * cosPsi_2 +\n",
    "                     sinPhi_2 * cosTheta_2 * sinPsi_2)\n",
    "    quaternion[3] = (cosPhi_2 * cosTheta_2 * sinPsi_2 -\n",
    "                     sinPhi_2 * sinTheta_2 * cosPsi_2)\n",
    "\n",
    "    return Quaternion(quaternion)\n",
    "\n",
    "\n",
    "def transformToEarthFrame(vector, q):\n",
    "    q_ = Quaternion(q)\n",
    "    return q_.inverse.rotate(vector)\n",
    "\n",
    "\n",
    "def transformToBodyFrame(vector, q):\n",
    "    q_ = Quaternion(q)\n",
    "    return q_.rotate(vector)\n",
    "\n",
    "\n",
    "def getGravityVector(roll, pitch):\n",
    "    x = np.cos(pitch) * np.sin(roll)\n",
    "    y = -np.sin(pitch)\n",
    "    z = -np.cos(pitch) * np.cos(roll)\n",
    "    \n",
    "    return np.array([x, y, z])\n",
    "    \n",
    "def wrapAroundPi(angle):\n",
    "    return np.arctan2(np.sin(angle), np.cos(angle))\n",
    "\n",
    "\n",
    "def integrateOrientation(euler, angularVelocity, f):\n",
    "    return np.array(list(map(wrapAroundPi, euler + angularVelocity / f)))\n",
    "\n",
    "\n",
    "def integratePosition(p0, v, f):\n",
    "    return p0 + v / f\n",
    "\n",
    "\n",
    "def integrateAngularVelocity(w, alpha, f):\n",
    "    return np.array(list(map(wrapAroundPi, w + alpha / f)))\n",
    "\n",
    "\n",
    "def integrateLinearVelocity(v, a, f):\n",
    "    return v + a/f\n",
    "\n",
    "\n",
    "def downSample(originalFrequency, sampleFrequency, df):\n",
    "    g = df.groupby(df.index // int(originalFrequency / sampleFrequency))\n",
    "\n",
    "    d = (g[[i for i in df.columns if i.startswith('d')]].sum() / originalFrequency) * sampleFrequency\n",
    "    p = g[[i for i in df.columns if i.startswith('d') is False \n",
    "           and i not in {'t', 'f', 's', 'aIndex', 'aName'}]].last()\n",
    "    \n",
    "    a = g['aIndex'].agg(lambda x: x.value_counts().index[0])\n",
    "\n",
    "    downSampled = reduce(lambda df1, df2: pd.merge(df1, df2, right_index=True, \n",
    "                                                   left_index=True), [p, d, a.to_frame()])\n",
    "    downSampled['f'] = sampleFrequency\n",
    "    return downSampled"
   ]
  },
  {
   "cell_type": "code",
   "execution_count": 3,
   "metadata": {},
   "outputs": [],
   "source": [
    "def getAverageAngularVelocity(p1, p0, f):\n",
    "    return np.array(list(map(wrapAroundPi, p1 - p0))) * f\n",
    "\n",
    "\n",
    "def getAverageLinearVelocity(p1, p0, f):\n",
    "    return np.array((p1 - p0) * f)\n",
    "\n",
    "\n",
    "def getAverageLinearAcceleration(v1, v0, f):\n",
    "    return np.array((v1 - v0) * f)\n",
    "\n",
    "\n",
    "def getAverageAngularAcceleration(v1, v0, f):\n",
    "    return np.array((v1 - v0) * f)\n",
    "    \n",
    "    \n",
    "def getAveragesBody(df, limit, frequency=10):\n",
    "    shape = (limit, 3)\n",
    "    linearVelocities, linearAccelerations = np.zeros(shape), np.zeros(shape)\n",
    "    angularVelocities, angularAccelerations = np.zeros(shape), np.zeros(shape)\n",
    "\n",
    "    linearVelocities[1] = getAverageLinearVelocity(df.loc[1, ['x', 'y', 'z']].values,\n",
    "                                                   df.loc[0, ['x', 'y', 'z']].values,\n",
    "                                                   frequency)\n",
    "\n",
    "    angularVelocities[1] = getAverageAngularVelocity(df.loc[1, ['psi', 'theta', 'phi']].values,\n",
    "                                                     df.loc[0, ['psi', 'theta', 'phi']].values,\n",
    "                                                     frequency)\n",
    "    for i in range(2, limit):\n",
    "        linearVelocities[i] = getAverageLinearVelocity(df.loc[i, ['x', 'y', 'z']].values,\n",
    "                                                       df.loc[i - 1, ['x', 'y', 'z']].values,\n",
    "                                                       frequency)\n",
    "\n",
    "        angularVelocities[i] = getAverageAngularVelocity(df.loc[i, ['psi', 'theta', 'phi']].values,\n",
    "                                                         df.loc[i - 1, ['psi', 'theta', 'phi']].values,\n",
    "                                                         frequency)\n",
    "\n",
    "        linearAccelerations[i] =\\\n",
    "        getAverageLinearAcceleration(linearVelocities[i], linearVelocities[i - 1], frequency)\n",
    "        \n",
    "        angularAccelerations[i] =\\\n",
    "        getAverageAngularAcceleration(angularVelocities[i], angularVelocities[i - 1], frequency)\n",
    "        \n",
    "    for i, j in zip(range(1, limit), range(2, limit)):\n",
    "        linearVelocities[i] =\\\n",
    "        transformToBodyFrame(linearVelocities[i], df.loc[i, ['scalar', 'i', 'j', 'k']].values)\n",
    "        \n",
    "        linearAccelerations[j] =\\\n",
    "        transformToBodyFrame(linearAccelerations[j], df.loc[i, ['scalar', 'i', 'j', 'k']].values)\n",
    "        \n",
    "    return linearVelocities[1:], angularVelocities[1:], linearAccelerations[2:], angularAccelerations[2:]"
   ]
  },
  {
   "cell_type": "code",
   "execution_count": 4,
   "metadata": {},
   "outputs": [],
   "source": [
    "def getInputOutput(df, frequency, limit=500):\n",
    "    v, w, a, alpha = getAveragesBody(df, limit, frequency=frequency)\n",
    "    X, y = np.zeros((limit, 12)), np.zeros((limit, 6))\n",
    "    \n",
    "    keymap = {8:'moveForward', 4:'yawCCW', 6:'yawCW', 5:'hover'}\n",
    "    inverseKeymap = {'moveForward': 0, 'yawCCW': 0, 'yawCW': 0, 'hover': 0}\n",
    "    \n",
    "    for i in range(limit-2):\n",
    "        rowi, action = df.iloc[i+1], df.loc[i+2, 'aIndex']\n",
    "        inverseKeymap[keymap[action]] = 1\n",
    "        X[i] = np.concatenate((v[i], w[i], [rowi['psi']], [rowi['theta']], [v for k, v in inverseKeymap.items()]))\n",
    "        y[i] = np.concatenate((a[i], alpha[i]))\n",
    "        \n",
    "    xColumns = ['dXB', 'dYB', 'dZB', 'dPsi', 'dTheta', 'dPhi', 'Psi', 'Theta'] + [i for i in inverseKeymap.keys()]\n",
    "    yColumns = ['d2XB', 'd2YB', 'd2ZB', 'd2Psi', 'd2Theta', 'd2Phi']\n",
    "    X, y = pd.DataFrame(X, columns=xColumns),\\\n",
    "           pd.DataFrame(y, columns=yColumns)\n",
    "    \n",
    "    return X, y"
   ]
  },
  {
   "cell_type": "code",
   "execution_count": 5,
   "metadata": {},
   "outputs": [],
   "source": [
    "def integrateTrajectoryVelocityBody(initialPosition, initialOrientation, \n",
    "                                    linearVelocitiesBody, angularVelocities, frequency):\n",
    "    \n",
    "    for v, w, f in zip(linearVelocitiesBody, angularVelocities, frequency):\n",
    "        initialOrientation = integrateOrientation(initialOrientation, w, f)\n",
    "        initialPosition = integratePosition(initialPosition,\n",
    "                                            transformToEarthFrame(v, eulerToQuaternion(*initialOrientation)), f)\n",
    "        yield initialPosition\n",
    "\n",
    "def integrateTrajectoryAccelerationBody(initialPosition, initialOrientation, \n",
    "                                        initialLinearVelocityBody, initialAngularVelocity,\n",
    "                                        linearAccelerationsBody, angularAccelerations, frequency):\n",
    "    \n",
    "    for a, alpha, f in zip(linearAccelerationsBody, angularAccelerations, frequency):\n",
    "        initialAngularVelocity = integrateAngularVelocity(initialAngularVelocity, alpha, f)\n",
    "        nextOrientation = integrateOrientation(initialOrientation, initialAngularVelocity, f)\n",
    "        \n",
    "        initialLinearVelocityBody = integrateLinearVelocity(initialLinearVelocityBody, a, f)\n",
    "        deltaQuaternion = eulerToQuaternion(*nextOrientation) * eulerToQuaternion(*initialOrientation).inverse\n",
    "        initialLinearVelocityBody = deltaQuaternion.rotate(initialLinearVelocityBody)\n",
    "        \n",
    "        initialPosition = integratePosition(initialPosition, \n",
    "                                            transformToEarthFrame(initialLinearVelocityBody, \n",
    "                                                                  eulerToQuaternion(*nextOrientation)), f)\n",
    "\n",
    "        initialOrientation = nextOrientation\n",
    "        \n",
    "        yield initialPosition"
   ]
  },
  {
   "cell_type": "code",
   "execution_count": 6,
   "metadata": {},
   "outputs": [],
   "source": [
    "path1 = 'C:/Users/talaa/PycharmProjects/rl/src/2017_10_26_00_55_52.csv'\n",
    "dataset = pd.read_csv(path1)\n",
    "length, width = dataset.shape"
   ]
  },
  {
   "cell_type": "markdown",
   "metadata": {},
   "source": [
    "## data is collected at 10 Hz"
   ]
  },
  {
   "cell_type": "code",
   "execution_count": 7,
   "metadata": {},
   "outputs": [],
   "source": [
    "X, y = getInputOutput(dataset, limit=length, frequency=10.0)"
   ]
  },
  {
   "cell_type": "code",
   "execution_count": 8,
   "metadata": {},
   "outputs": [
    {
     "data": {
      "text/html": [
       "<div>\n",
       "<style>\n",
       "    .dataframe thead tr:only-child th {\n",
       "        text-align: right;\n",
       "    }\n",
       "\n",
       "    .dataframe thead th {\n",
       "        text-align: left;\n",
       "    }\n",
       "\n",
       "    .dataframe tbody tr th {\n",
       "        vertical-align: top;\n",
       "    }\n",
       "</style>\n",
       "<table border=\"1\" class=\"dataframe\">\n",
       "  <thead>\n",
       "    <tr style=\"text-align: right;\">\n",
       "      <th></th>\n",
       "      <th>dXB</th>\n",
       "      <th>dYB</th>\n",
       "      <th>dZB</th>\n",
       "      <th>dPsi</th>\n",
       "      <th>dTheta</th>\n",
       "      <th>dPhi</th>\n",
       "      <th>Psi</th>\n",
       "      <th>Theta</th>\n",
       "      <th>moveForward</th>\n",
       "      <th>yawCCW</th>\n",
       "      <th>yawCW</th>\n",
       "      <th>hover</th>\n",
       "    </tr>\n",
       "  </thead>\n",
       "  <tbody>\n",
       "    <tr>\n",
       "      <th>0</th>\n",
       "      <td>-2.191665e-08</td>\n",
       "      <td>-3.201676e-10</td>\n",
       "      <td>-0.259528</td>\n",
       "      <td>1.684550e-15</td>\n",
       "      <td>-4.536479e-08</td>\n",
       "      <td>2.357865e-08</td>\n",
       "      <td>2.576613e-14</td>\n",
       "      <td>-2.969615e-09</td>\n",
       "      <td>0.0</td>\n",
       "      <td>0.0</td>\n",
       "      <td>0.0</td>\n",
       "      <td>1.0</td>\n",
       "    </tr>\n",
       "    <tr>\n",
       "      <th>1</th>\n",
       "      <td>-1.073255e-08</td>\n",
       "      <td>-3.201887e-10</td>\n",
       "      <td>-0.944887</td>\n",
       "      <td>1.676097e-15</td>\n",
       "      <td>-4.536476e-08</td>\n",
       "      <td>2.366960e-08</td>\n",
       "      <td>2.593374e-14</td>\n",
       "      <td>-7.506091e-09</td>\n",
       "      <td>0.0</td>\n",
       "      <td>0.0</td>\n",
       "      <td>0.0</td>\n",
       "      <td>1.0</td>\n",
       "    </tr>\n",
       "    <tr>\n",
       "      <th>2</th>\n",
       "      <td>1.417792e-08</td>\n",
       "      <td>-3.202574e-10</td>\n",
       "      <td>-1.620734</td>\n",
       "      <td>1.644797e-15</td>\n",
       "      <td>-4.536474e-08</td>\n",
       "      <td>2.667548e-08</td>\n",
       "      <td>2.609822e-14</td>\n",
       "      <td>-1.204257e-08</td>\n",
       "      <td>0.0</td>\n",
       "      <td>0.0</td>\n",
       "      <td>0.0</td>\n",
       "      <td>1.0</td>\n",
       "    </tr>\n",
       "    <tr>\n",
       "      <th>3</th>\n",
       "      <td>5.180084e-08</td>\n",
       "      <td>-3.203707e-10</td>\n",
       "      <td>-2.268294</td>\n",
       "      <td>1.586770e-15</td>\n",
       "      <td>-4.403049e-08</td>\n",
       "      <td>2.628667e-08</td>\n",
       "      <td>2.625690e-14</td>\n",
       "      <td>-1.644561e-08</td>\n",
       "      <td>0.0</td>\n",
       "      <td>0.0</td>\n",
       "      <td>0.0</td>\n",
       "      <td>1.0</td>\n",
       "    </tr>\n",
       "    <tr>\n",
       "      <th>4</th>\n",
       "      <td>8.912986e-08</td>\n",
       "      <td>-3.111778e-10</td>\n",
       "      <td>-2.785208</td>\n",
       "      <td>1.549096e-15</td>\n",
       "      <td>-1.334110e-08</td>\n",
       "      <td>3.137529e-08</td>\n",
       "      <td>2.641181e-14</td>\n",
       "      <td>-1.777972e-08</td>\n",
       "      <td>0.0</td>\n",
       "      <td>0.0</td>\n",
       "      <td>0.0</td>\n",
       "      <td>1.0</td>\n",
       "    </tr>\n",
       "  </tbody>\n",
       "</table>\n",
       "</div>"
      ],
      "text/plain": [
       "            dXB           dYB       dZB          dPsi        dTheta  \\\n",
       "0 -2.191665e-08 -3.201676e-10 -0.259528  1.684550e-15 -4.536479e-08   \n",
       "1 -1.073255e-08 -3.201887e-10 -0.944887  1.676097e-15 -4.536476e-08   \n",
       "2  1.417792e-08 -3.202574e-10 -1.620734  1.644797e-15 -4.536474e-08   \n",
       "3  5.180084e-08 -3.203707e-10 -2.268294  1.586770e-15 -4.403049e-08   \n",
       "4  8.912986e-08 -3.111778e-10 -2.785208  1.549096e-15 -1.334110e-08   \n",
       "\n",
       "           dPhi           Psi         Theta  moveForward  yawCCW  yawCW  hover  \n",
       "0  2.357865e-08  2.576613e-14 -2.969615e-09          0.0     0.0    0.0    1.0  \n",
       "1  2.366960e-08  2.593374e-14 -7.506091e-09          0.0     0.0    0.0    1.0  \n",
       "2  2.667548e-08  2.609822e-14 -1.204257e-08          0.0     0.0    0.0    1.0  \n",
       "3  2.628667e-08  2.625690e-14 -1.644561e-08          0.0     0.0    0.0    1.0  \n",
       "4  3.137529e-08  2.641181e-14 -1.777972e-08          0.0     0.0    0.0    1.0  "
      ]
     },
     "execution_count": 8,
     "metadata": {},
     "output_type": "execute_result"
    }
   ],
   "source": [
    "X.head()"
   ]
  },
  {
   "cell_type": "code",
   "execution_count": 9,
   "metadata": {},
   "outputs": [
    {
     "data": {
      "text/html": [
       "<div>\n",
       "<style>\n",
       "    .dataframe thead tr:only-child th {\n",
       "        text-align: right;\n",
       "    }\n",
       "\n",
       "    .dataframe thead th {\n",
       "        text-align: left;\n",
       "    }\n",
       "\n",
       "    .dataframe tbody tr th {\n",
       "        vertical-align: top;\n",
       "    }\n",
       "</style>\n",
       "<table border=\"1\" class=\"dataframe\">\n",
       "  <thead>\n",
       "    <tr style=\"text-align: right;\">\n",
       "      <th></th>\n",
       "      <th>d2XB</th>\n",
       "      <th>d2YB</th>\n",
       "      <th>d2ZB</th>\n",
       "      <th>d2Psi</th>\n",
       "      <th>d2Theta</th>\n",
       "      <th>d2Phi</th>\n",
       "    </tr>\n",
       "  </thead>\n",
       "  <tbody>\n",
       "    <tr>\n",
       "      <th>0</th>\n",
       "      <td>6.897639e-08</td>\n",
       "      <td>-6.328217e-14</td>\n",
       "      <td>-6.853592</td>\n",
       "      <td>-8.452550e-17</td>\n",
       "      <td>3.663740e-13</td>\n",
       "      <td>9.094960e-10</td>\n",
       "    </tr>\n",
       "    <tr>\n",
       "      <th>1</th>\n",
       "      <td>1.755805e-07</td>\n",
       "      <td>-4.349121e-13</td>\n",
       "      <td>-6.758463</td>\n",
       "      <td>-3.130041e-16</td>\n",
       "      <td>1.332310e-13</td>\n",
       "      <td>3.005880e-08</td>\n",
       "    </tr>\n",
       "    <tr>\n",
       "      <th>2</th>\n",
       "      <td>2.763550e-07</td>\n",
       "      <td>-7.906610e-13</td>\n",
       "      <td>-6.475604</td>\n",
       "      <td>-5.802622e-16</td>\n",
       "      <td>1.334248e-08</td>\n",
       "      <td>-3.888090e-09</td>\n",
       "    </tr>\n",
       "    <tr>\n",
       "      <th>3</th>\n",
       "      <td>3.361326e-07</td>\n",
       "      <td>9.205046e-11</td>\n",
       "      <td>-5.169141</td>\n",
       "      <td>-3.767409e-16</td>\n",
       "      <td>3.068940e-07</td>\n",
       "      <td>5.088623e-08</td>\n",
       "    </tr>\n",
       "    <tr>\n",
       "      <th>4</th>\n",
       "      <td>3.394824e-07</td>\n",
       "      <td>-9.559833e-11</td>\n",
       "      <td>-6.421161</td>\n",
       "      <td>6.282900e-16</td>\n",
       "      <td>3.309109e-06</td>\n",
       "      <td>-1.068656e-08</td>\n",
       "    </tr>\n",
       "  </tbody>\n",
       "</table>\n",
       "</div>"
      ],
      "text/plain": [
       "           d2XB          d2YB      d2ZB         d2Psi       d2Theta  \\\n",
       "0  6.897639e-08 -6.328217e-14 -6.853592 -8.452550e-17  3.663740e-13   \n",
       "1  1.755805e-07 -4.349121e-13 -6.758463 -3.130041e-16  1.332310e-13   \n",
       "2  2.763550e-07 -7.906610e-13 -6.475604 -5.802622e-16  1.334248e-08   \n",
       "3  3.361326e-07  9.205046e-11 -5.169141 -3.767409e-16  3.068940e-07   \n",
       "4  3.394824e-07 -9.559833e-11 -6.421161  6.282900e-16  3.309109e-06   \n",
       "\n",
       "          d2Phi  \n",
       "0  9.094960e-10  \n",
       "1  3.005880e-08  \n",
       "2 -3.888090e-09  \n",
       "3  5.088623e-08  \n",
       "4 -1.068656e-08  "
      ]
     },
     "execution_count": 9,
     "metadata": {},
     "output_type": "execute_result"
    }
   ],
   "source": [
    "y.head()"
   ]
  },
  {
   "cell_type": "markdown",
   "metadata": {},
   "source": [
    "## Sanity Check"
   ]
  },
  {
   "cell_type": "code",
   "execution_count": 10,
   "metadata": {},
   "outputs": [
    {
     "data": {
      "image/png": "[encoded data removed]",
      "text/plain": [
       "<matplotlib.figure.Figure at 0x188a03244e0>"
      ]
     },
     "metadata": {},
     "output_type": "display_data"
    }
   ],
   "source": [
    "limit = 1500\n",
    "gen2 = integrateTrajectoryAccelerationBody(initialPosition=dataset.loc[1, ['x', 'y', 'z']].values,\n",
    "                                           initialOrientation=dataset.loc[1, ['psi', 'theta', 'phi']].values,\n",
    "                                           initialLinearVelocityBody=X.loc[0, ['dXB', 'dYB', 'dZB']].values,\n",
    "                                           initialAngularVelocity=X.loc[0, ['dPhi', 'Psi', 'Theta']].values,\n",
    "                                           \n",
    "                                           linearAccelerationsBody=y[['d2XB', 'd2YB', 'd2ZB']].values,\n",
    "                                           angularAccelerations=y[['d2Psi', 'd2Theta', 'd2Phi']].values,\n",
    "                                           frequency=[10.0] * limit)\n",
    "\n",
    "figure(num=None, figsize=(20, 10), dpi=80, facecolor='w', edgecolor='k')\n",
    "for i in range(2, limit):\n",
    "    p = next(gen2)\n",
    "    subplot(1, 2, 1)\n",
    "    plt.scatter(dataset.loc[i, ['x']].values, dataset.loc[i, ['y']].values, color='green')\n",
    "    subplot(1, 2, 2)\n",
    "    plt.scatter(p[0], p[1], color='red')"
   ]
  },
  {
   "cell_type": "code",
   "execution_count": 11,
   "metadata": {},
   "outputs": [],
   "source": [
    "from sklearn.model_selection import train_test_split\n",
    "xTrain, xTest, yTrain, yTest =\\\n",
    "train_test_split(X, y, test_size=0.20, random_state=1)"
   ]
  },
  {
   "cell_type": "markdown",
   "metadata": {},
   "source": [
    "### MLP Regressor"
   ]
  },
  {
   "cell_type": "code",
   "execution_count": 12,
   "metadata": {},
   "outputs": [
    {
     "data": {
      "text/plain": [
       "5.8509237694692793"
      ]
     },
     "execution_count": 12,
     "metadata": {},
     "output_type": "execute_result"
    }
   ],
   "source": [
    "from sklearn.model_selection import GridSearchCV\n",
    "from sklearn.neural_network import MLPRegressor\n",
    "from sklearn.metrics import mean_squared_error\n",
    "\n",
    "cvModel = MLPRegressor(max_iter=int(10e3), random_state=10)\n",
    "parameters = {'hidden_layer_sizes':[(5, ), (10, ), (15, ), (25, )], 'alpha':[1e-4 * np.exp(i) for i in range(10)]}\n",
    "clf = GridSearchCV(cvModel, parameters, n_jobs=-1).fit(xTrain, yTrain)\n",
    "\n",
    "model = MLPRegressor(hidden_layer_sizes=clf.best_params_['hidden_layer_sizes'],\n",
    "                     alpha=clf.best_params_['alpha'], max_iter=int(10e8), random_state=10).fit(xTrain, yTrain)\n",
    "\n",
    "yPredicted = pd.DataFrame(model.predict(xTest), columns=y.columns)\n",
    "mean_squared_error(yPredicted['d2Theta'], yTest['d2Theta']) ** 0.5"
   ]
  },
  {
   "cell_type": "code",
   "execution_count": 13,
   "metadata": {},
   "outputs": [],
   "source": [
    "model = MLPRegressor(hidden_layer_sizes=clf.best_params_['hidden_layer_sizes'],\n",
    "                     alpha=clf.best_params_['alpha'], max_iter=int(10e8), random_state=10).fit(X, y)"
   ]
  },
  {
   "cell_type": "markdown",
   "metadata": {},
   "source": [
    "### Random Forest"
   ]
  },
  {
   "cell_type": "code",
   "execution_count": 41,
   "metadata": {},
   "outputs": [],
   "source": [
    "from sklearn.ensemble import RandomForestRegressor\n",
    "\n",
    "model = RandomForestRegressor(max_depth=5, random_state=10).fit(xTrain, yTrain)"
   ]
  },
  {
   "cell_type": "code",
   "execution_count": 42,
   "metadata": {},
   "outputs": [
    {
     "data": {
      "text/plain": [
       "5.7540293658384627"
      ]
     },
     "execution_count": 42,
     "metadata": {},
     "output_type": "execute_result"
    }
   ],
   "source": [
    "yPredicted = pd.DataFrame(model.predict(xTest), columns=y.columns)\n",
    "mean_squared_error(yPredicted['d2Theta'], yTest['d2Theta']) ** 0.5"
   ]
  },
  {
   "cell_type": "code",
   "execution_count": 16,
   "metadata": {},
   "outputs": [],
   "source": [
    "def d2Psi(x, cpsi, c1, d1):\n",
    "    # Cφ * dPsi + C1 * (moveForward + -hover) + D1\n",
    "    pass\n",
    "\n",
    "def d2Theta(x, ctheta, c2, d2):\n",
    "    # Ċθ * dTheta + C2 * (moveForward + -hover) + D2\n",
    "    return ctheta * x['dPhi'] + c2 * (-x['moveForward'] + x['hover']) + d2\n",
    "\n",
    "def d2Phi(x, cphi, c3, d3):\n",
    "    # Cω * dPhi + C3 * (-yawCw + yawCCw) + D3\n",
    "    return cphi * x['dPhi'] + c3 * (-x['yawCw'] + x['yawCCw']) + d3\n",
    "\n",
    "def d2XB(x):\n",
    "    # Cx * dXB + gx\n",
    "    pass\n",
    "\n",
    "def d2YB(x):\n",
    "    # Cy * dYB + gy + D0\n",
    "    pass\n",
    "\n",
    "def d2ZB(x):\n",
    "    # Cz * dZB + gz + C4 * u4 + D4\n",
    "    pass"
   ]
  }
 ],
 "metadata": {
  "kernelspec": {
   "display_name": "Python 3",
   "language": "python",
   "name": "python3"
  },
  "language_info": {
   "codemirror_mode": {
    "name": "ipython",
    "version": 3
   },
   "file_extension": ".py",
   "mimetype": "text/x-python",
   "name": "python",
   "nbconvert_exporter": "python",
   "pygments_lexer": "ipython3",
   "version": "3.6.1"
  }
 },
 "nbformat": 4,
 "nbformat_minor": 2
}
