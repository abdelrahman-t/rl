{
 "cells": [
  {
   "cell_type": "code",
   "execution_count": null,
   "metadata": {
    "collapsed": true
   },
   "outputs": [],
   "source": [
    "!pip install pyquaternion\n",
    "!pip install --user --upgrade pixiedust"
   ]
  },
  {
   "cell_type": "code",
   "execution_count": 1,
   "metadata": {},
   "outputs": [
    {
     "name": "stdout",
     "output_type": "stream",
     "text": [
      "Pixiedust database opened successfully\n"
     ]
    },
    {
     "data": {
      "text/html": [
       "\n",
       "        <div style=\"margin:10px\">\n",
       "            <a href=\"https://github.com/ibm-watson-data-lab/pixiedust\" target=\"_new\">\n",
       "                <img src=\"https://github.com/ibm-watson-data-lab/pixiedust/raw/master/docs/_static/pd_icon32.png\" style=\"float:left;margin-right:10px\"/>\n",
       "            </a>\n",
       "            <span>Pixiedust version 1.1.0</span>\n",
       "        </div>\n",
       "        "
      ],
      "text/plain": [
       "<IPython.core.display.HTML object>"
      ]
     },
     "metadata": {},
     "output_type": "display_data"
    }
   ],
   "source": [
    "from itertools import starmap\n",
    "from pyquaternion import Quaternion \n",
    "\n",
    "from sklearn.model_selection import train_test_split\n",
    "from sklearn.linear_model import MultiTaskElasticNetCV, MultiTaskElasticNet\n",
    "\n",
    "from sklearn.metrics import mean_squared_error\n",
    "from sklearn.externals import joblib\n",
    "\n",
    "from pylab import *\n",
    "import pandas as pd\n",
    "\n",
    "np.random.seed=1\n",
    "%matplotlib inline\n",
    "\n",
    "import pixiedust"
   ]
  },
  {
   "cell_type": "code",
   "execution_count": 2,
   "metadata": {},
   "outputs": [],
   "source": [
    "def addSuffix(l, suffix):\n",
    "    return [i + suffix for i in l]\n",
    "    \n",
    "def toEulerianAngle(q):\n",
    "    ysqr = q[2] * q[2]\n",
    "\n",
    "    t0 = +2.0 * (q[0] * q[1] + q[2] * q[3])\n",
    "    t1 = +1.0 - 2.0 * (q[1] * q[1] + ysqr)\n",
    "    roll = np.arctan2(t0, t1)\n",
    "\n",
    "    t2 = +2.0 * (q[0] * q[2] - q[3] * q[1])\n",
    "    t2 = 1.0 if t2 > 1.0 else t2\n",
    "    t2 = -1.0 if t2 < -1.0 else t2\n",
    "    pitch = np.arcsin(t2)\n",
    "\n",
    "    t3 = +2.0 * (q[0] * q[3] + q[1] * q[2])\n",
    "    t4 = +1.0 - 2.0 * (ysqr + q[3] * q[3])\n",
    "    yaw = np.arctan2(t3, t4)\n",
    "\n",
    "    return np.array([roll, pitch, yaw])\n",
    "\n",
    "\n",
    "def getRollPitchYaw(q):\n",
    "    return toEulerianAngle(q)\n",
    "\n",
    "\n",
    "def eulerToQuaternion(roll, pitch, yaw):\n",
    "    quaternion = [0] * 4\n",
    "    cosPhi_2 = np.cos(roll / 2)\n",
    "    sinPhi_2 = np.sin(roll / 2)\n",
    "    cosTheta_2 = np.cos(pitch / 2)\n",
    "    sinTheta_2 = np.sin(pitch / 2)\n",
    "    cosPsi_2 = np.cos(yaw / 2)\n",
    "    sinPsi_2 = np.sin(yaw / 2)\n",
    "\n",
    "    quaternion[0] = (cosPhi_2 * cosTheta_2 * cosPsi_2 +\n",
    "                     sinPhi_2 * sinTheta_2 * sinPsi_2)\n",
    "    quaternion[1] = (sinPhi_2 * cosTheta_2 * cosPsi_2 -\n",
    "                     cosPhi_2 * sinTheta_2 * sinPsi_2)\n",
    "    quaternion[2] = (cosPhi_2 * sinTheta_2 * cosPsi_2 +\n",
    "                     sinPhi_2 * cosTheta_2 * sinPsi_2)\n",
    "    quaternion[3] = (cosPhi_2 * cosTheta_2 * sinPsi_2 -\n",
    "                     sinPhi_2 * sinTheta_2 * cosPsi_2)\n",
    "\n",
    "    return Quaternion(quaternion)\n",
    "\n",
    "\n",
    "def transformToEarthFrame(vector, q):\n",
    "    q_ = Quaternion(q)\n",
    "    return q_.inverse.rotate(vector)\n",
    "\n",
    "\n",
    "def transformToBodyFrame(vector, q):\n",
    "    q_ = Quaternion(q)\n",
    "    return q_.rotate(vector)\n",
    "\n",
    "\n",
    "def generateGaussianNoise(std, mean=0):\n",
    "    return np.random.normal(scale=std, loc=mean)\n",
    "\n",
    "\n",
    "def wrapAroundPi(angle):\n",
    "    return np.arctan2(np.sin(angle), np.cos(angle))\n",
    "\n",
    "\n",
    "def integrateOrientation(euler, angularVelocity, f):\n",
    "    return np.array(list(map(wrapAroundPi, euler + angularVelocity / f)))\n",
    "\n",
    "\n",
    "def integratePosition(p0, v, f):\n",
    "    return p0 + v / f\n",
    "\n",
    "\n",
    "def getAverageAngularVelocity(p1, p0, f):\n",
    "    return np.array(list(map(wrapAroundPi, p1 - p0))) * f\n",
    "\n",
    "\n",
    "def getAverageLinearVelocity(p1, p0, f):\n",
    "    return np.array((p1 - p0) * f)\n",
    "\n",
    "\n",
    "def integrateTrajectory(initialPosition, initialOrientation, linearVelocitiesBody, angularVelocities, frequency):\n",
    "    for v, w, f in zip(linearVelocitiesBody, angularVelocities, frequency):\n",
    "        initialOrientation = integrateOrientation(initialOrientation, w, f)\n",
    "        initialPosition = integratePosition(initialPosition,\n",
    "                                            transformToEarthFrame(v, eulerToQuaternion(*initialOrientation)), f)\n",
    "        yield initialPosition"
   ]
  },
  {
   "cell_type": "code",
   "execution_count": 3,
   "metadata": {},
   "outputs": [],
   "source": [
    "path1 = 'C:/Users/talaa/Desktop/10hz.csv'\n",
    "dataset = pd.read_csv(path1)\n",
    "\n",
    "f = dataset['f'].values\n",
    "position = ['x', 'y', 'z']\n",
    "orientation = ['psi', 'theta', 'phi']\n",
    "quaternion = ['scalar', 'i', 'j', 'k']\n",
    "\n",
    "initialPositions = dataset[addSuffix(position, '0')].values\n",
    "nextPositions = dataset[addSuffix(position, '1')].values\n",
    "quaternions = dataset[addSuffix(quaternion, '1')].values\n",
    "\n",
    "initialOrientations = dataset[addSuffix(orientation, '0')].values\n",
    "nextOrientations = dataset[addSuffix(orientation, '1')].values\n",
    "\n",
    "vEarth_avg = np.array(list(starmap(getAverageLinearVelocity, zip(nextPositions, initialPositions, f))))\n",
    "vBody_avg = np.array(list(starmap(transformToBodyFrame, zip(vEarth_avg, quaternions))))\n",
    "angularVelocities_avg = np.array(list(starmap(getAverageAngularVelocity, zip(nextOrientations, initialOrientations, f))))\n",
    "\n",
    "for i, item in enumerate(zip(['dXB1_avg', 'dYB1_avg', 'dZB1_avg'], ['dPsi1_avg', 'dTheta1_avg', 'dPhi1_avg'])):\n",
    "    v, w = item\n",
    "    dataset[v] = vBody_avg[:, i]\n",
    "    dataset[w] = angularVelocities_avg[:, i]\n",
    "    \n",
    "for i, item in enumerate(zip(['dXB0_avg', 'dYB0_avg', 'dZB0_avg'], ['dPsi0_avg', 'dTheta0_avg', 'dPhi0_avg'])):\n",
    "    v, w = item\n",
    "    dataset[v] = np.roll(vBody_avg[:, i], shift=1)\n",
    "    dataset[w] = np.roll(angularVelocities_avg[:, i], shift=1)\n",
    "    \n",
    "dataset.drop(dataset.head(500).index, inplace=True)\n",
    "dataset = dataset.reset_index(drop=True)"
   ]
  },
  {
   "cell_type": "code",
   "execution_count": 4,
   "metadata": {},
   "outputs": [],
   "source": [
    "d = pd.get_dummies(dataset['aIndex'])\n",
    "for i, item in enumerate(d.columns):\n",
    "    dataset['a'+ str(i)] = d[item]"
   ]
  },
  {
   "cell_type": "code",
   "execution_count": 5,
   "metadata": {},
   "outputs": [],
   "source": [
    "#modelInputs = ['dXB0_avg', 'dYB0_avg', 'dZB0_avg', 'dPsi0_avg', 'dTheta0_avg', 'dPhi0_avg'] + ['psi0', 'theta0'] +\\\n",
    "#              ['a0', 'a1', 'a2', 'a3']\n",
    "modelInputs = ['dXB0_avg', 'dYB0_avg', 'dZB0_avg', 'dPsi0_avg', 'dTheta0_avg', 'dPhi0_avg'] + ['psi0', 'theta0'] +\\\n",
    "              ['aIndex']\n",
    "\n",
    "modelOutputs = ['dXB1_avg', 'dYB1_avg', 'dZB1_avg', 'dPsi1_avg', 'dTheta1_avg', 'dPhi1_avg']\n",
    "\n",
    "modelInputs = ['dXB0', 'dYB0', 'dZB0', 'dPsi0', 'dTheta0', 'dPhi0'] + ['psi0', 'theta0'] + ['aIndex']\n",
    "modelOutputs = ['dXB1_avg', 'dYB1_avg', 'dZB1', 'dPsi1', 'dTheta1', 'dPhi1']\n",
    "\n",
    "\n",
    "X, y = dataset[modelInputs], dataset[modelOutputs]\n",
    "xTrain, xTest, yTrain, yTest =\\\n",
    "train_test_split(X, y, test_size=0.20, random_state=1)"
   ]
  },
  {
   "cell_type": "code",
   "execution_count": 6,
   "metadata": {},
   "outputs": [
    {
     "data": {
      "text/html": [
       "<div>\n",
       "<style>\n",
       "    .dataframe thead tr:only-child th {\n",
       "        text-align: right;\n",
       "    }\n",
       "\n",
       "    .dataframe thead th {\n",
       "        text-align: left;\n",
       "    }\n",
       "\n",
       "    .dataframe tbody tr th {\n",
       "        vertical-align: top;\n",
       "    }\n",
       "</style>\n",
       "<table border=\"1\" class=\"dataframe\">\n",
       "  <thead>\n",
       "    <tr style=\"text-align: right;\">\n",
       "      <th></th>\n",
       "      <th>dXB0</th>\n",
       "      <th>dYB0</th>\n",
       "      <th>dZB0</th>\n",
       "      <th>dPsi0</th>\n",
       "      <th>dTheta0</th>\n",
       "      <th>dPhi0</th>\n",
       "      <th>psi0</th>\n",
       "      <th>theta0</th>\n",
       "      <th>aIndex</th>\n",
       "    </tr>\n",
       "  </thead>\n",
       "  <tbody>\n",
       "    <tr>\n",
       "      <th>0</th>\n",
       "      <td>-2.515745</td>\n",
       "      <td>-1.558407</td>\n",
       "      <td>-0.295494</td>\n",
       "      <td>-0.081245</td>\n",
       "      <td>-1.542928</td>\n",
       "      <td>0.233429</td>\n",
       "      <td>0.004212</td>\n",
       "      <td>0.040487</td>\n",
       "      <td>6</td>\n",
       "    </tr>\n",
       "    <tr>\n",
       "      <th>1</th>\n",
       "      <td>-2.434193</td>\n",
       "      <td>-1.637146</td>\n",
       "      <td>-0.307786</td>\n",
       "      <td>-0.012851</td>\n",
       "      <td>-0.048217</td>\n",
       "      <td>0.556935</td>\n",
       "      <td>0.000556</td>\n",
       "      <td>0.002992</td>\n",
       "      <td>6</td>\n",
       "    </tr>\n",
       "    <tr>\n",
       "      <th>2</th>\n",
       "      <td>-2.315574</td>\n",
       "      <td>-1.789872</td>\n",
       "      <td>-0.228504</td>\n",
       "      <td>-0.002606</td>\n",
       "      <td>-0.016749</td>\n",
       "      <td>0.771453</td>\n",
       "      <td>0.000087</td>\n",
       "      <td>-0.000001</td>\n",
       "      <td>6</td>\n",
       "    </tr>\n",
       "    <tr>\n",
       "      <th>3</th>\n",
       "      <td>-2.148475</td>\n",
       "      <td>-1.979661</td>\n",
       "      <td>-0.176844</td>\n",
       "      <td>-0.000158</td>\n",
       "      <td>-0.002665</td>\n",
       "      <td>0.920331</td>\n",
       "      <td>-0.000025</td>\n",
       "      <td>-0.000326</td>\n",
       "      <td>6</td>\n",
       "    </tr>\n",
       "    <tr>\n",
       "      <th>4</th>\n",
       "      <td>-1.945889</td>\n",
       "      <td>-2.172859</td>\n",
       "      <td>-0.141391</td>\n",
       "      <td>-0.000219</td>\n",
       "      <td>-0.002409</td>\n",
       "      <td>1.017588</td>\n",
       "      <td>-0.000051</td>\n",
       "      <td>-0.000312</td>\n",
       "      <td>6</td>\n",
       "    </tr>\n",
       "  </tbody>\n",
       "</table>\n",
       "</div>"
      ],
      "text/plain": [
       "       dXB0      dYB0      dZB0     dPsi0   dTheta0     dPhi0      psi0  \\\n",
       "0 -2.515745 -1.558407 -0.295494 -0.081245 -1.542928  0.233429  0.004212   \n",
       "1 -2.434193 -1.637146 -0.307786 -0.012851 -0.048217  0.556935  0.000556   \n",
       "2 -2.315574 -1.789872 -0.228504 -0.002606 -0.016749  0.771453  0.000087   \n",
       "3 -2.148475 -1.979661 -0.176844 -0.000158 -0.002665  0.920331 -0.000025   \n",
       "4 -1.945889 -2.172859 -0.141391 -0.000219 -0.002409  1.017588 -0.000051   \n",
       "\n",
       "     theta0  aIndex  \n",
       "0  0.040487       6  \n",
       "1  0.002992       6  \n",
       "2 -0.000001       6  \n",
       "3 -0.000326       6  \n",
       "4 -0.000312       6  "
      ]
     },
     "execution_count": 6,
     "metadata": {},
     "output_type": "execute_result"
    }
   ],
   "source": [
    "X.head()"
   ]
  },
  {
   "cell_type": "code",
   "execution_count": 7,
   "metadata": {},
   "outputs": [
    {
     "data": {
      "text/html": [
       "<div>\n",
       "<style>\n",
       "    .dataframe thead tr:only-child th {\n",
       "        text-align: right;\n",
       "    }\n",
       "\n",
       "    .dataframe thead th {\n",
       "        text-align: left;\n",
       "    }\n",
       "\n",
       "    .dataframe tbody tr th {\n",
       "        vertical-align: top;\n",
       "    }\n",
       "</style>\n",
       "<table border=\"1\" class=\"dataframe\">\n",
       "  <thead>\n",
       "    <tr style=\"text-align: right;\">\n",
       "      <th></th>\n",
       "      <th>dXB1_avg</th>\n",
       "      <th>dYB1_avg</th>\n",
       "      <th>dZB1</th>\n",
       "      <th>dPsi1</th>\n",
       "      <th>dTheta1</th>\n",
       "      <th>dPhi1</th>\n",
       "    </tr>\n",
       "  </thead>\n",
       "  <tbody>\n",
       "    <tr>\n",
       "      <th>0</th>\n",
       "      <td>-2.508077</td>\n",
       "      <td>-1.686923</td>\n",
       "      <td>-0.307786</td>\n",
       "      <td>-0.012851</td>\n",
       "      <td>-0.048217</td>\n",
       "      <td>0.556935</td>\n",
       "    </tr>\n",
       "    <tr>\n",
       "      <th>1</th>\n",
       "      <td>-2.323330</td>\n",
       "      <td>-1.796243</td>\n",
       "      <td>-0.228504</td>\n",
       "      <td>-0.002606</td>\n",
       "      <td>-0.016749</td>\n",
       "      <td>0.771453</td>\n",
       "    </tr>\n",
       "    <tr>\n",
       "      <th>2</th>\n",
       "      <td>-2.198226</td>\n",
       "      <td>-2.026094</td>\n",
       "      <td>-0.176844</td>\n",
       "      <td>-0.000158</td>\n",
       "      <td>-0.002665</td>\n",
       "      <td>0.920331</td>\n",
       "    </tr>\n",
       "    <tr>\n",
       "      <th>3</th>\n",
       "      <td>-1.932140</td>\n",
       "      <td>-2.158211</td>\n",
       "      <td>-0.141391</td>\n",
       "      <td>-0.000219</td>\n",
       "      <td>-0.002409</td>\n",
       "      <td>1.017588</td>\n",
       "    </tr>\n",
       "    <tr>\n",
       "      <th>4</th>\n",
       "      <td>-1.746621</td>\n",
       "      <td>-2.414271</td>\n",
       "      <td>-0.113623</td>\n",
       "      <td>-0.000262</td>\n",
       "      <td>-0.002459</td>\n",
       "      <td>1.083461</td>\n",
       "    </tr>\n",
       "  </tbody>\n",
       "</table>\n",
       "</div>"
      ],
      "text/plain": [
       "   dXB1_avg  dYB1_avg      dZB1     dPsi1   dTheta1     dPhi1\n",
       "0 -2.508077 -1.686923 -0.307786 -0.012851 -0.048217  0.556935\n",
       "1 -2.323330 -1.796243 -0.228504 -0.002606 -0.016749  0.771453\n",
       "2 -2.198226 -2.026094 -0.176844 -0.000158 -0.002665  0.920331\n",
       "3 -1.932140 -2.158211 -0.141391 -0.000219 -0.002409  1.017588\n",
       "4 -1.746621 -2.414271 -0.113623 -0.000262 -0.002459  1.083461"
      ]
     },
     "execution_count": 7,
     "metadata": {},
     "output_type": "execute_result"
    }
   ],
   "source": [
    "y.head()"
   ]
  },
  {
   "cell_type": "code",
   "execution_count": 9,
   "metadata": {},
   "outputs": [
    {
     "name": "stdout",
     "output_type": "stream",
     "text": [
      "[ -3.23807634e-04   6.25440398e-05   2.18932379e-05  -5.10697466e-04\n",
      "  -1.13157961e-03   4.06489497e-04] [ 0.12927263  0.13000287  0.14011302  0.19691714  0.55269092  0.10102882]\n"
     ]
    }
   ],
   "source": [
    "cvModel = MultiTaskElasticNetCV(l1_ratio=np.linspace(0.001, 1.0), max_iter=int(10e3), random_state=10, n_jobs=-1)\\\n",
    "          .fit(xTrain, yTrain)\n",
    "    \n",
    "means, stds= pd.DataFrame(cvModel.predict(X) - y, columns=y.columns).mean().values,\\\n",
    "             pd.DataFrame(cvModel.predict(X) - y, columns=y.columns).std().values\n",
    "    \n",
    "print(means, stds)"
   ]
  },
  {
   "cell_type": "code",
   "execution_count": 63,
   "metadata": {},
   "outputs": [
    {
     "name": "stdout",
     "output_type": "stream",
     "text": [
      "1.0 0.00259140577609\n"
     ]
    }
   ],
   "source": [
    "print(cvModel.l1_ratio_, cvModel.alpha_)\n",
    "model = MultiTaskElasticNet(l1_ratio=cvModel.l1_ratio_, alpha=cvModel.alpha_, max_iter=int(10e8), random_state=10).fit(X, y)"
   ]
  },
  {
   "cell_type": "code",
   "execution_count": 43,
   "metadata": {},
   "outputs": [],
   "source": [
    "def predict(limit, dataset, f):\n",
    "    #actions = X[['a0', 'a1', 'a2', 'a3']].values[:limit]\n",
    "    actions = X['aIndex'].values[:limit]\n",
    "    current_orientation = dataset.loc[0, addSuffix(orientation, '0')].values\n",
    "    \n",
    "    vBody, angularVelocity, euler = np.zeros((limit, 3)), np.zeros((limit, 3)), np.zeros((limit, 3))\n",
    "    for index in range(limit):\n",
    "        if index != 0:\n",
    "            s0 = np.concatenate((prediction, current_orientation[:-1], [actions[index]]))\n",
    "        else:\n",
    "            s0 = X.iloc[0].values\n",
    "        \n",
    "        prediction = model.predict(s0.reshape(1, -1))[0]\n",
    "        current_orientation = integrateOrientation(current_orientation, prediction[[3, 4, 5]], f)\n",
    "        \n",
    "        euler[index] = current_orientation\n",
    "        vBody[index] = prediction[[0, 1, 2]]\n",
    "        angularVelocity[index] = prediction[[3, 4, 5]]\n",
    "    \n",
    "    return vBody, angularVelocity, euler"
   ]
  },
  {
   "cell_type": "code",
   "execution_count": 61,
   "metadata": {},
   "outputs": [
    {
     "data": {
      "image/png": "[encoded data removed]",
      "text/plain": [
       "<matplotlib.figure.Figure at 0x17a81870d30>"
      ]
     },
     "metadata": {},
     "output_type": "display_data"
    }
   ],
   "source": [
    "import warnings\n",
    "warnings.filterwarnings(\"ignore\")\n",
    "\n",
    "limit=5000\n",
    "figure(num=None, figsize=(17, 7), dpi=80, facecolor='w', edgecolor='k')\n",
    "vBody, w, euler = predict(limit=limit, dataset=dataset, f=10)\n",
    "gen = integrateTrajectory(dataset.loc[0, addSuffix(position , '0')].values, \n",
    "                          dataset.loc[0, addSuffix(orientation , '0')].values, vBody, w, f)\n",
    "\n",
    "positions = np.zeros((limit, 3))\n",
    "for i in range(40):\n",
    "    p = next(gen)\n",
    "    positions[i] = p\n",
    "    plt.scatter(p[0], p[1], color='red')\n",
    "    plt.scatter(dataset.loc[i, ['x1']].values, dataset.loc[i, ['y1']].values, color='green') "
   ]
  },
  {
   "cell_type": "code",
   "execution_count": 55,
   "metadata": {},
   "outputs": [
    {
     "data": {
      "text/plain": [
       "-142.78474546350441"
      ]
     },
     "execution_count": 55,
     "metadata": {},
     "output_type": "execute_result"
    }
   ],
   "source": [
    "np.sum(np.rad2deg(list(map(lambda x: wrapAroundPi(x), w[:25]-dataset[['dPsi1', 'dTheta1', 'dPhi1']].values[:25]))))/10.0"
   ]
  },
  {
   "cell_type": "code",
   "execution_count": 53,
   "metadata": {
    "pixiedust": {
     "displayParams": {
      "aggregation": "SUM",
      "handlerId": "lineChart",
      "keyFields": "index",
      "rendererId": "matplotlib",
      "rowCount": "500",
      "valueFields": "dPsi1,dTheta1,dPhi1"
     }
    }
   },
   "outputs": [
    {
     "data": {
      "text/html": [
       "<style type=\"text/css\">.pd_warning{display:none;}</style><div class=\"pd_warning\"><em>Hey, there's something awesome here! To see it, open this notebook outside GitHub, in a viewer like Jupyter</em></div>\n",
       "        <div class=\"pd_save is-viewer-good\" style=\"padding-right:10px;text-align: center;line-height:initial !important;font-size: xx-large;font-weight: 500;color: coral;\">\n",
       "            \n",
       "        </div>\n",
       "    \n",
       "        <div id=\"chartFigureda84bb7e\" class=\"pd_save\" style=\"overflow-x:auto\">\n",
       "            \n",
       "                    \n",
       "                            <center><img style=\"max-width:initial !important\" src=\"data:image/png;base64,iVBORw0KGgoAAAANSUhEUgAAAswAAAIhCAYAAABaC+xGAAAABHNCSVQICAgIfAhkiAAAAAlwSFlzAAAOwwAADsMBx2+oZAAAIABJREFUeJzs3XmcHHW9//t3dfU6+0yWyUogJBlCIGRj0QuCKAeBIzcuhyOJEEPgyHUBWZSfHDS4nB8HERQiHI6SgHBUREBBQY7BBUUkLCIBkhAICSHbZJlkZnpmeq26f/Qy3ZmZnp6Znq3q9eTRj6quqq6unqkw7/nMp75l2LZtCwAAAEC3PMN9AAAAAMBIRmAGAAAACiAwAwAAAAUQmAEAAIACCMwAAABAAQRmAAAAoAACMwAAAFAAgRkAAAAogMAMAAAAFEBgBjAgiURCDQ0NWrdu3YD28/jjj+vss88u0VG5V1+/Hw0NDXruuecG+ahQKn35/q5bt04NDQ1KJBI9bnPppZfqzjvvLOUhAo7kHe4DAOAc69at08UXX6yysjJJUllZmU488URdd911mjhxYsHXnn/++Tr//POzz//2t7/p7rvv1qZNm3To0CH97ne/07Rp0wb1+J3klVde0eWXX5593t7erkAgINM0JUkLFy7UPffcM+D3yXzP33jjDXm9xf9I4fs7cAP595Zx+Dnwve99T88884zefvttHX/88frZz35W8uMGRiMCM4CSe/HFF+X1erV3715deeWV+spXvqIHHnigT/sIhUJavHixamtr9dnPfnaQjtS55s+fr1deeUVSqio5Z84c/ehHP9LJJ588zEeWwve3dErx7y3jiCOO0BVXXKFnn31WGzduLPGRAqMXgRkYYTo64nrnnYND9n7Tp9cqFPIVvf2BAwe0cuVKPf/886qurtaVV17Z47bjx4/Xeeedp1tvvVWStGvXLq1cuVKvvvqqksmkJk6cqBtvvFGLFi3So48+qu9///v685//LEmaN2+e5s2bpx07dgzsAw5QXHEdVNOQvV+t6uTT4Hw/erJlyxbdcccdevPNNzVlyhStXLlSixYtyq7/1a9+pTVr1mjnzp2aMGGCPve5z+m8887Trl27dNlll0mSTjzxREnSZz/7WV1++eW6/fbb9eSTT2rv3r2qqqrShz/8YV177bUKhUKSRtD3t6NDB995Z0jeq3b6dPnSn79YA/n3lvH000/re9/7nvbu3at58+bpP//zP1VfXy9Juuiii7RgwQJdddVVkqRPfOITkqQ33nijT8cJOB2BGRhBOjriOvroO7R7d3jI3nPixApt2XJF0aH5y1/+sgzD0NNPPy1Juu6663rcds+ePfrNb36juXPnSpJuvfVW1dfX6y9/+Yt8Pp+2bdsmn6/4cDjU4orr+7pVrWodsvesVKW+pGuKDs19+X705Be/+IVWrVqlyZMn6+abb9aXv/xl/fGPf5QkPfroo7rjjju0atUqzZkzR3//+9/1b//2b6qvr9eiRYv0ox/9SBdffHG2ypkxbdo03XvvvZo4caLefvttfe5zn1NZWZmuueaaPh/fYIl3dOiOo49WePfuIXm/iokTdcWWLX0KzQP595axdu1aPfzww5Kkyy67TLfddptuvvnmfnwCwL246A9A0RobG/XXv/5VX/nKV1RTU6OamhpdffXVXbY75ZRTdOKJJ+rCCy/U1KlT9Z3vfEeS5Pf7tX//fm3fvl2GYWj69OmaOnXqUH8Mxyj2+9GbSy65RNOmTZPX69UFF1ygXbt2af/+/ZKke++9V5dffrmOP/54eTweLVq0SOeee65++ctfFtzn4sWLNWnSJBmGoZkzZ2rp0qX661//2q/P6VYD/feWcc0116iyslKVlZX66Ec/qvXr1w/VRwAcgwozMIKEQj5t2XLFiG3J2LNnjyRpypQp2WW58xnPP/98txeAfeUrX9F//dd/6Qtf+IJaWlp0xhln6JprrtHYsWP7efSDyyefvqRrRmxLRrHfj96MHz8+O59pmWhra9PYsWP17rvv6uabb9Z3v/vd7DbJZDKvZaM7Dz74oH7+859r165dSiQSSiQSqqmp6fOxDSZfKKQrtmwZsS0ZA/33lnH497etra3oYwCQQmAGRphQyKc5c8b3vuEwmDBhgiRp586dmjVrVna+WLW1tbr++ut1/fXXq7GxUddee61uuummLj2XI4lPPo1X/XAfRrcG+v0oxtixY3XFFVdo8eLF3a73eLr+ofKVV17Rt771La1evVoLFy6Uz+fTfffdpzVr1pT02ErBFwpp/Jw5w30Y3RqK7y+A4tCSAaBo9fX1et/73qdbbrlFzc3Nam5u1m233Vb065944glt375dlmWpvLxcfr+/x8qYZVmKRqOKxWKSpHg8rmg0qmQyWZLP4gQD/X4UY9myZbrrrru0fv16WZalWCym9evX6/XXX5ek7F8Htm7dmn1Na2urPB6P6urq5PP59MYbb+h//ud/8vbL97d3Q/H9PVzm+5BIJGTbtqLRqKLR6KC+JzAaEJgB9Mktt9win8+nM888Ux/72Md07rnnFv3aTZs2admyZVqwYIE+/OEPq6qqqseLmF588UXNnTtX55xzjiTpvPPO09y5c/XYY4+V5HM4xUC+H8VYtmyZvvCFL+jGG2/USSedpNNOO0233HKLOjo6JElHHXWULrroIl188cVatGiRfvjDH+rUU0/Vpz71KV100UVauHChbrvtti4Var6/xRns7+/hvva1r2nu3Lm6++679corr2ju3LldLiIE3Miwbdse7oMAAAAARioqzAAAAEABBGYAAACgAAIzAAAAUACBGQAAACiAwAwAAAAUQGAGAAAACiAwAwAAAAUQmAEAAIACCMwAAABAAQRmAAAAoAACMwAAAFAAgRkAAAAogMAMAAAAFEBgBgAAAAogMAMAAAAFEJgBAACAAgjMAAAAQAEEZgAAAKAAAjMAAABQAIEZAAAAKIDADAAAABRAYAYAAAAKIDADAAAABRCYAQAAgAIIzAAAAEABBGYAAACgAAIzAAAAUACBGQAAACiAwAwAAAAUQGAGAAAACiAwAwAAAAUQmAEAAIACCMwAAABAAQRmAAAAoAACMwAAAFAAgRkAAAAogMAMAAAAFEBgBgAAAAogMAMAAAAFEJgBAACAAgjMAAAAQAEEZgAAAKAA73AfQLFs21ZTU5ssyx7uQ8EI5PEYqqsr5xxBjzhHUAjnB3rDOeIu48ZV5j0fNRVmwzBkGMZwHwZGqMz5wTmCnnCOoBDOD/SGc8TdRk1gBgAAAIYDgRkAAAAogMAMAAAAFEBgBgAAAAogMAMAAAAFEJgBAACAAgjMAAAAQAEEZgAAAKAAAjMAAABQAIEZAAAAKIDADAAAABTgLWajJ554Qj/5yU+0adMmtbW16Y033pDX2/nShoYGBQIBmaaZXfbggw+qoaFBkmTbtlatWqWHHnpI4XBYc+bM0cqVKzVr1qwSfxwAAACgtIoKzFVVVVqyZIkikYj+/d//vdtt7r77br3//e/vdt3q1av1yCOPaPXq1Zo2bZruvPNOrVixQk899ZTKy8v7f/QAAADAICsqMJ922mmSpHXr1vXrTX7605/qkksuyVacr7zySj388MNau3atFi9eXPR+TNMQXSToTurc4BxBzzhHUAjnB3rDOeJuRQXmYnz5y19WIpHQpEmTdOGFF+qCCy6QJLW2tmrnzp2aO3du55t6vZo9e7Y2btzYp8BcXV1WqsOFQ3GOoDecIyiE8wO94Rxxp5IE5vvuu0/z58+Xx+PR3/72N1177bVKJBJasmSJwuGwpFRbR66qqqrsumI1N7crmbRLcchwGNM0VF1dxjmCHnGOoBDOD/SGc8Rd6uryW4ZLEpjf9773ZedPP/10LVu2TI8//riWLFmiiooKSVJLS0vea1paWlRfX9+n90kmbSWT1sAPGA6U+vMY5wh6xjmS6/myv8gyLL2v7QMyZAz34YwAnB/oDeeImw1aE45tp377qqys1OTJk/Xaa69l1yUSCW3YsEGzZ88erLcHAPSg2XNIL5b/VS+X/U1N5v7hPhwAGPGKCszJZFLRaFTxeFySFIvFFI1GZVmW3njjDb3++uuKxWJKJBJ69tlndf/99+u8887Lvn7JkiVas2aNNm/erEgkottvv10+n09nnXXW4HwqAECPIp6O7Hy7p20YjwQARoeiWjIee+wxffWrX80+nz9/viTp/vvvV1tbm2655Rbt2bNHpmlq0qRJuuqqq3ThhRdmt1+xYoXa2tq0fPlyhcNhHXfccbrnnnsYUg4AhkHMiGbno0ZkGI8EAEYHw870TowCTU1t9A2hW6bpUV1dOecIesQ50ukd/2Y9Uf2oJOnM1nM0J3LCMB/R8OP8QG84R9xl3LjKvOcMJAgALhM34tl5KswA0DsCMwC4TMyIZecjHgIzAPSGwAwALhPPCcxUmAGgdwRmAHCZvAqz0VFgSwCARGAGANfJqzDTkgEAvSIwA4DL0JIBAH1DYAYAl4lRYQaAPiEwA4DLUGEGgL4hMAOAy+QH5qhsjZr7VwHAsCAwA4DL5LZk2Iadd6tsAEBXBGYAcJncCrNEWwYA9IbADAAuk3trbIm7/QFAbwjMAOAyMSrMANAnBGYAcBFbtuIeAjMA9AWBGQBcJK54l2W0ZABAYQRmAHCRw6vLEhVmAOgNgRkAXCS3f9mwDUnc7Q8AekNgBgAXyR1SrtyqkESFGQB6Q2AGABfJDcyVVpUkKUJgBoCCCMwA4CK5LRkVyVRgpiUDAAojMAOAi2QrzDYtGQBQLAIzALhIpsLss/0K2iFJDCsHAL0hMAOAi2QqzH7br6AVlESFGQB6Q2AGABeJ51SYA3ZnYLZlD+dhAcCIRmAGABeJ5VSYA+kKswwpZkSH8agAYGQjMAOAi8SN1K2xcyvMEkPLAUAhBGYAcJG8HuacwMzQcgDQMwIzALhIpvXCl9uSISrMAFAIgRkAXKSnlgxGygCAnhGYAcBFci/688gjvxWQREsGABRCYAYAF+kcVs4nSQrY6cBMhRkAekRgBgAXyR2HWVK2j5m7/QFAzwjMAOAiuS0ZkrIjZVBhBoCeEZgBwCVs2V0rzJnA7OkYtuMCgJGOwAwALpFUQraRugW2//CWDCrMANAjAjMAuESmHUPqpsJMYAaAHhGYAcAl4oUCMxf9AUCPCMwA4BK5FebsRX9WSBIVZgAohMAMAC5RsMJsRGXLHpbjAoCRjsAMAC4R83RXYU7fHttIhWYAQFcEZgBwibji2Xlv9k5/wewy2jIAoHsEZgBwibgnVUH22j550v/7zwwrJ0kRxmIGgG4RmAHAJeJGqsKcaceQqDADQDEIzADgEplRMnxWbmAOZOcZWg4AukdgBgCXyAbmdP+yJHnkkd9KhWYqzADQPQIzALhEZli53JYMSQra3B4bAAohMAOAS8SzFeZA3vLMhX+0ZABA9wjMAOAS3bVkSLk3LyEwA0B3CMwA4BI9tWRkAnOECjMAdIvADAAu0WNgtqgwA0AhBGYAcInOlozuL/ojMANA9wjMAOAS8R4CMxf9AUBhBGYAcAmGlQOA/iEwA4BL9NSSkbnoL+aJypI15McFACMdgRkAXCCppCwjFYZ7asmQpJgRHdLjAoDRgMAMAC6QqS5LPVeYJS78A4DuEJgBwAXiOZXjLj3MORVmxmIGgK4IzADgAnEjnp3v6cYlEhVmAOgOgRkAXCC/JSP/1th+O5Cdp8IMAF0RmAHABeJ5gTmQt84jj/xWahkVZgDoisAMAC5QqMIscbc/ACiEwAwALpCpMJu2KVNml/Xc7Q8AekZgBgAX6OmmJRkB7vYHAD0iMAOAC/R0W+yMbEuGp2PIjgkARgsCMwC4QLy3CrNFDzMA9ITADAAu0FuFmZYMAOgZgRkAXKDXHmYu+gOAHhGYAcAF4p7CgblzWLlot+sBwM0IzADgArH0rbF7bMmwQqntPFFZsobsuABgNCAwA4ALZC/6swr3MEtUmQHgcARmAHCBWDoE+1S4JUNipAwAOByBGQBcIJ5pyeipwmx1BuYIYzEDQB4CMwC4QK/jMFNhBoAeEZgBwAVi2XGYfd2uD9gByU7NM7QcAOQjMAOAw1mylDQSknquMBsyUqFZVJgB4HAEZgBwuEw7hiT506G4OwE7NbRchAozAOQhMAOAw8VyArOvh5YMSQpm7vZHhRkA8hCYAcDh4nmBufuWDKnzwj8CMwDkIzADgMPFig3M6QozLRkAkI/ADAAOl9/DTIUZAPqKwAwADtfnwEyFGQDyEJgBwOEyLRke2yOPzB6346I/AOgegRkAHC73Ln+GjB63y1SYIwRmAMhTVGB+4okntGTJEi1YsEANDQ1KJBJ56zdt2qSlS5dq3rx5OvXUU7Vq1SrZtp1db9u27rjjDp166qmaN2+eli5dqs2bN5f2kwAAuhU34pIKt2NInRXmuCcmS9agHxcAjBZFBeaqqiotWbJE119/fZd14XBYl156qRYsWKDnn39eq1ev1i9+8Qv9+Mc/zm6zevVqPfLII1q9erWef/55LViwQCtWrFBbW1vpPgkAoFsxIyqp8AgZUmeFWaItAwByeYvZ6LTTTpMkrVu3rsu6tWvXKplM6sorr5TX61VDQ4NWrFihBx54QJ/5zGckST/96U91ySWXqKGhQZJ05ZVX6uGHH9batWu1ePHiog/WNA3RRYLupM4NzhH0zM3nSMJM/VXQL79Ms+fPXmaUZefj3pgqrIpBP7aRws3nB4rDOeJuRQXmQjZu3Khjjz1WXm/nro4//ni99957CofDsm1bO3fu1Ny5czvf1OvV7NmztXHjxj4F5urqst43gqtxjqA3bjxHPOn2ijJvSHV15T1uZ6g2O++vkerU87ZO5cbzA33DOeJOAw7M4XBYlZWVecuqq6uz6zK9zFVVVXnbVFVVKRwO9+m9mpvblUzavW8I1zFNQ9XVZZwj6JGbz5HW8jYpIBkxU03hnlvhIoatTGbe13pQ5fG6ITrC4efm8wPF4Rxxl8OLCwMOzBUVFWpsbMxb1tzcnF2XCcwtLS1527S0tKi+vr5P75VM2komuRAF3Un9eYxzBD1z7zkSU2qUDK/lK/jZvfJJtiRD6rA7XPZ1cu/5gWJxjrjZgJtwZs+erQ0bNuSNnPHaa69p6tSpqqioUGVlpSZPnqzXXnstuz6RSGjDhg2aPXv2QN8eANCLzDjMfjtQcDtDBkPLAUA3igrMyWRS0WhU8XhqaKJYLKZoNCrLsnTWWWfJNE2tWrVKkUhEb775ptasWaOlS5dmX79kyRKtWbNGmzdvViQS0e233y6fz6ezzjprcD4VACCrcxxmX6/bcrc/AOiqqJaMxx57TF/96lezz+fPny9Juv/++3XyySfrnnvu0Te/+U3dd999qqio0Kc+9ansCBmSskPILV++XOFwWMcdd5zuuecelZe774ISABhq8WyFufCwclJqLOYWk2HlACCXYefeYWSEa2pqo28I3TJNj+rqyjlH0CM3nyOr61ap3WzTaeEPaV7HiQW3/VX1g3rPv03HdszVh8LnDtERDj83nx8oDueIu4wblz+gBQMJAoDDxT2dt8buTSB9t7+Ip2NQjwkARhMCMwA4mC276FtjS1Iw08NMSwYAZBGYAcDBMv3LUpEV5swoGVz0BwBZBGYAcLBYXwOzlakwRwftmABgtCEwA4CDZdoxJMlvFV9hpiUDADoRmAHAwXJbMoodVk5KXSiYVHLQjgsARhMCMwA4WCyntaIvPcyHvxYA3IzADAAOltuSUUxgDuYEZi78A4AUAjMAOFimJcOwDXmLuLlr5qI/SYoajMUMABKBGQAcLTNKhs/2y5DR6/YBKswA0AWBGQAcLG4Uf5c/SfLbARl2KlgzUgYApBCYAcDBOivMvqK2N2QoYAckEZgBIIPADAAOlqkwFzOkXEZ2LGZaMgBAEoEZABytX4HZCkmSIlSYAUASgRkAHC3Wxx5mqXNoOVoyACCFwAwADtbXi/6kzqHlGCUDAFIIzADgYAPqYabCDACSCMwA4Gj9acngoj8AyEdgBgAHy9wau089zBYVZgDIRWAGAAeLMawcAAwYgRkAHKx/F/0F0q+NK6nkoBwXAIwmBGYAcChbdr8u+gvaoew8bRkAQGAGAMdKKCHbsCX1b1g5ibYMAJAIzADgWJnqsiT5bF/Rr8v0MEvc7Q8AJAIzADhWbmD224GiXxe0qTADQC4CMwA4VCyvwlx8S4bP9suwDUn0MAOARGAGAMeKefrXkmHIyLZl0JIBAARmAHCs/JaM4ivMUueFf7RkAACBGQAcK97Plgyps4+ZlgwAIDADgGPFsjct8cmQ0afXcrc/AOhEYAYAh8re5c/qW3VZ6mzJiBgdJT0mABiNCMwA4FD9uS12Bi0ZANCJwAwADhXrx22xMzov+ouW9JgAYDQiMAOAQ8WNuKT+VZgZVg4AOhGYAcChYkaqOjyQwMxFfwBAYAYAx8pUmAfSkpEw4koqWdLjAoDRhsAMAA5Viov+JC78AwACMwA4VOdFf8XfFjsjU2GWpAhtGQBcjsAMAA5VugozYzEDcDcCMwA4VDxbYQ70+bUBmwozAGQQmAHAoXJvjd1XPtsvw07dTpseZgBuR2AGAIcaSEuGIaNzaDkCMwCXIzADgAMllZBlWJL6N6ycJAUtxmIGAInADACOlGnHkPpXYZZEhRkA0gjMAOBA8ZIE5pAkLvoDAAIzADhQboV5wC0ZVJgBuByBGQAcqDQV5lRgpsIMwO0IzADgQHEjnp3vb4U5QIUZACQRmAHAkWJGNDvf/wpz6oYnBGYAbkdgBgAHyrRkmLZXnn7+rz5ze2yGlQPgdgRmAHCgWLolo7/tGFJnS0bCSCipREmOCwBGIwIzADjQQO7ylxFMDysnSRHaMgC4GIEZABwo5skEZl+/95GpMEu0ZQBwNwIzADhQXKnA7E9fuNcfmWHlJCrMANyNwAwADhSnwgwAJUNgBgAHyvQwD+SiP5988tipHxMMLQfAzQjMAOBAmVtj+6z+B2ZDRrYtgwozADcjMAOAA5VilAypsy2DHmYAbkZgBgAHipWgJUPqvPCPlgwAbkZgBgAHKlWFOWjRkgEABGYAcKBYqVoyqDADAIEZAJwoXoJbY0udgTlChRmAixGYAcBhLFlKGglJJWzJoMIMwMUIzADgMJl2DImL/gCgFAjMAOAw8ZzAXLJh5WjJAOBiBGYAcJj4IFSYk0ZCCSUGtC8AGK0IzADgMLG8CrNvQPsKpgOzxNByANyLwAwADpPfkhEY0L4yLRkSfcwA3IvADAAOU8qL/nIrzBGjY0D7AoDRisAMAA6TqTB7bI9MmQPaV16FmZYMAC5FYAYAh8kE5oFWlyXJK588dupHRYSWDAAuRWAGAIcp1W2xJcmQ0TkWMxVmAC5FYAYAh4mXMDBLnW0ZXPQHwK0IzADgMKVsyZA6L/wjMANwKwIzADhMKVsyJO72BwAEZgBwmLgRl1S6wBy0Q5KoMANwLwIzADhMrMQtGYH0zU+46A+AWxGYAcBh4kZU0iC0ZFBhBuBSBGYAcJhSt2QEuOgPgMsRmAHAYUrdkhG0GIcZgLsRmAHAYeKezCgZvpLsL1NhThpJJRQvyT4BYDQhMAOAw5R6HOZMYJYYWg6AOxGYAcBBbNmdPcxWoCT7DFqh7Dx9zADcqCSBedWqVZo9e7bmz5+ffVx99dXZ9Zs2bdLSpUs1b948nXrqqVq1apVs2y7FWwMAcmSqy5LkU2lbMiQqzADcyVuqHc2bN08/+9nPuiwPh8O69NJL9bGPfUyrV6/Wu+++q8suu0yVlZX6zGc+U6q3BwCo84I/SfJbpR1WTqLCDMCdShaYe7J27Volk0ldeeWV8nq9amho0IoVK/TAAw/0OTCbpiG6SNCd1LnBOYKeueUcSXoS2fmgJyjTHPhn9cgv0zaVNJKKm9GS7HOkccv5gf7jHHG3kgXmjRs36pRTTlEoFNKCBQv0pS99SVOnTtXGjRt17LHHyuvtfKvjjz9e7733nsLhsCoqKop+j+rqslIdLhyKcwS9cfo50qGD2flx1dWqU3lJ9htSSGGF5amwSrbPkcjp5wcGjnPEnUoSmM8++2x9/OMf16RJk7R371595zvf0fLly/XYY48pHA6rsrIyb/vq6mpJ6nNgbm5uVzJJ7zO6Mk1D1dVlnCPokVvOkf3eFqkqNd9+MCnZbSXZr686IJlhHexoUVNHafY5krjl/ED/cY64S11dfmGgJIF51qxZ2fn6+nrddNNNWrhwoV555RVVVFSosbExb/vm5mZJ6lNYlqRk0lYyaQ38gOFAqT+PcY6gZ+44R6JmZ4+xmfAqqdJ81oAVlEypw+5w6NfPHecHBoJzxM0GtQnHtm3Nnj1bGzZsUCLR2Vf32muvaerUqX0OzACAwjIX/Rm2IbOEl6kEuNsfABcrSWB+8skn1dTUJEnav3+/brjhBo0bN07z58/XWWedJdM0tWrVKkUiEb355ptas2aNli5dWoq3BgDkyI7BbPtlyCjZfoPpoeUYJQOAG5UkMD/++OM699xzdcIJJ+hjH/uYEomE7r33XlVUVKiiokL33HOPXnzxRZ188sm65JJL9MlPfpIh5QBgEMSMqKTS3eUvI1NhZhxmAG5Ukr/X3X333QXXH3PMMfrpT39aircCABSQuXGJr9SBmQozABdjIEEAcJDcloxSyrZkUGEG4EIEZgBwkMxFf4PWkmFEZIshtQC4C4EZAByksyXDV9L9ZloyLCOphBK9bA0AzkJgBgAHiWcrzIGS7jcTmCXaMgC4D4EZABwkNkgX/QWtnMDMhX8AXIbADAAOMtgtGZIU8XSUdN8AMNIRmAHAQQbroj8qzADcjMAMAA4yWOMwe+WTaZuSCMwA3IfADAAOMljjMEvc7Q+AexGYAcAhbNk5o2QMQmDmbn8AXIrADAAOkVBctpG6qchgVJi52x8AtyIwA4BDZNoxpEGqMFuZCnO05PsGgJGMwAwADpEZIUMapB5mu/P22ADgJgRmAHCIuKez8jsoLRmZCjPjMANwGQIzADhEbJBbMoJ2SJLU6mmVLbvk+weAkYpPPJF3AAAgAElEQVTADAAOEc9tybBKH5gnxqdIktrMVu33NpZ8/wAwUhGYAcAh8nqYVdpbY0vSpPjUbFvGFv/mku8fAEYqAjMAOET2Ln+WX4aMku/flKmjojMlSW8H3iz5/gFgpCIwA4BDDOZNSzKOjjVIkg56D6jJ3D9o7wMAIwmBGQAcItOS4bNL346RMTV2ZLY/ekuAtgwA7kBgBgCHyLZkDGKF2SuvjowdLUna4qctA4A7EJgBwCGGoiVDkmZEU20Z+3yNavYcGtT3AoCRgMAMAA4RG4IKsyQdEZsu0/ZKkt6hLQOACxCYAcAhhqIlQ5L88mta7ChJ0hZGywDgAgRmAHCI2BC1ZEjS0em2jN2+nWrzhAf9/QBgOBGYAcAh4ulbYw92hVmSjorNkMdO/QjhJiYAnI7ADAAOMVQtGZIUsIOaEp8mibYMAM5HYAYAhxjKlgypsy1jp2+7OoyOIXlPABgOBGYAcIihrDBL0vToTMmWbMPWVv9bQ/KeADAcCMwA4AC27CEbhzmjzC7XpPhUSbRlAHA2AjMAOEBSSVmGJWnoKsySNCOWasvY7t+mmBEdsvcFgKFEYAYAB8hUlyXJZ/uG7H2nR2dJkiwjqW3+LUP2vgAwlAjMAOAAsZzA7LcDQ/a+lVaV6uMTJdGWAcC5CMwA4ADDVWGWOkfL2OZ/R3HFh/S9AWAoEJgBwAHieRXmoethlqSjY6m2jIQR13b/1iF9bwAYCgRmAHCAWF6FeWgDc02yTmMS4yTRlgHAmQjMAOAA8WEMzFJnW8ZW/9tKKjnk7w8Ag4nADAAOkAnMXtsrzzD8r/3o9GgZMU9UO3zvDvn7A8BgIjADgAPEhvguf4cbkxynmkStJNoyADgPgRkAHCDmGd7AbMjQ9PRNTN4JvCVL1rAcBwAMBgIzADhA3EgN5zbUI2TkmpHuY+7wtGu3b8ewHQcAlBqBGQAcIJ6+LfVwVZglaXxigiqSVZKkt/20ZQBwDgIzADjAcPcwS6m2jMzFf1sCm2XLHrZjAYBSIjADgANkWzKs4QvMUudNTNrMVjV6dw/rsQBAqRCYAcABMsPKDWcPsyRNjE9RyCqTxGgZAJyDwAwADhDPtmT4hvU4PPJoerYt403aMgA4AoEZABygs4c5MMxH0nkTk2bzkA6Y+4b5aABg4AjMAOAAI6UlQ5KmxKcpYKWC+9u0ZQBwAAIzADhAbIS0ZEiSKVNHxmZIkt4JbB7mowGAgSMwA4ADxEfAsHK5MjcxOeDdp4Nm0zAfDQAMDIEZAEa5pJJKGklJI6MlQ5KOiB2VrXZv4SYmAEY5AjMAjHKZMZilkVNh9sqnadGjJaVuYgIAoxmBGQBGucxtsaWRU2GWOm9iste3W62e5mE+GgDoPwIzAIxymQv+pJFTYZakI2NHy2ObkqgyAxjdCMwAMMqNxJYMSfLbAR0RO1ISfcwARjcCMwCMcrkV5pHUkiF1jpaxy7dD7UbbMB8NAPQPgRkARrncHuaRVGGWpCNjM2XYhmRI7wTeGu7DAYB+ITADwCiXacnw2KZMmcN8NPlCdkgTEpMkSY3e3cN8NADQP97hPgAAwMDERtBtsbtTmxir3b6dOug9MNyHAmCUsG1bdjIpKx5XMh6TFUtP43FZ8ZiseKLzed66uJLZbTLzcVmJ1HZWIt65XSIhKxZLL0t0rkvEteSRX+QdD4EZAEa5+Ai6LXZ36pJjJEkHzf2yZcuQMcxHBMBKJpWMRpWMRWVFY0rGokrGY0pGY7LisdS6eFzJaFRWLKZkLLWNlV6WjEWVjKWCaTKWDqexmKzulsdjOftI7z8TXmOxVKhNB9fc18q2h/vLlEVgBoBRLp6tMAeG+Ui6V5cYK0mKeCLqMNpVZpcP8xEBw8e2LCWjUSWiESUjESUikVQAjUaU6IikptGIkpH0smhUVjSqRCakZraPRZWIRGXFop3bx6LpfUWzATczb2Wex1Jh2E4mh/tLMeg8fr88Xp9Mn0+e3IfXKzO9zuPzpqZ+vzxerzw+n0xv1+IDgRkARrlYtsI8Qlsy0hVmSTroPaCyOIEZI4ttWUp0dCje3q5ER7sS7e2Kp6eJjnbF29tlRSLye5JqOdCsWHu7kpEOJdo7lIhElIikpslIhxId6ecdHUpEOrqE4mQ02vsBjVCGacr0+2X6A6mA6fOlngcCMn1+efy+9NQv0+frsp3H55fp96VCbCDQudzry3ttNtBmtvf506HXL4/Pm9rOl3qNx5u/j8xzwzRlGKX7axaBGQBGuZHeklFpVclr+5Qw4moy92ty/IjhPiSMYlYioVi4VbGWFsVaWxVva1O8LZyahjPP2xRvD3fOt3Wdz4ThREcq3I5EHq9XHn9A3mBApj+QCqbBYOd8ICBvIL0udxu/X56c+e7Wp+b9h70m/dznkyezX39O8DVH1kXFQ4nADACj3Ei/6M+QodpEnfb5GtVkcuGf2yUiEUUPHVTk4EFFmw8pevCgIocOKtZ8SNGWFsVbWxVtTU9bmhUPtyra0pINyIn24RnP2wwG5QuFZAaC8oZCMoMheUNBeYMheYPB1PNgUN6ystQ0GJKZnnpDwdTrgsHUskAwFXaDoVSQDQRTwTcUSk3T6z1eYtpIwXcCAEa5+AhvyZCkuuRY7fM1MlKGwyQiEXXs26v2fXvVsW9fanpgfzYERw8eTIXjQ4cUPZSaH8xqrhkMyldeLl95RWpaljOfs9xbViZfWbm8oVDqeSiUWhYqSwXeUJl8OVMzFJLP71NdXbmamtqUTFqD9hkwMhGYAWCUG8rA/N57LRo/vkyBQN9+fGT6mKkwj3y2Zal9316Fd7yn9r2ZMHxYKN63V+379inW0lyS9/SGQvJXVctfVaVAVZV8FZUKVFXLV1mpQGVValpVldqmslL+yir5Kyvly0zT4ZiKLAYLZxYAjHJD1ZJx//3rde21T+v006fpoYc+3qcLamoTqcDcZrYqZkRH7IgebhBrbVF450617nxP4R071Lpzh8KZx44dCu/eKSse79e+vWXlKhs7ToG6WgWqaxSsrVWgpjY9rVOgpkbBmloFamuz00B1jbzBYIk/JVBaBGYAGOXinsGvMG/bdkhf//qfJEnPPPOufvnLN/Xxjx9T9OvrkmOz803mgezd/1B6tm2rvXGPDr61WYfe2qyDb29Wy7vb1LojFYr7WhX2VVSqbNw4hcaNV9m48QqNG5eejs+Zppb5KioG6VMBw4vADACjXObW2INVYbYsW1dd9Tu1tyeyy77xjT/r7LOPVnl5cSNzVCdr5LE9sgxLBwnMJZGMxdS8bWs2FB96a7MOvvWmDr71luLh1qL24SuvUMWUKaqcPEUVk6eqYvJkVUyeosopU1UxabLK6ifIV1Y2yJ8EGPkIzAAwymXHYbYGJzDfd9+r+utfd0iSLr10nlav/od27w5r1aoX9H/+z/9T1D5MmapO1uqg94CavAek0TsU7bBo3blDjS+9oH3rX+2sGm/bKiuRKPg6X0WlamfOVPVR01UxeWoqGE9JhePKKVPkr6ou6Vi1gFMRmAFgFLNkKTGIFeZ3323WN7/5F0nSGWdM03/8xwfV3h7XT3/6hu666yUtWXKcjjiiuqh91SXH6KD3gA6a+0t+nE6SjEa177VX1fjSC9rz4gva89ILatu9q+BryidNVu2MWaqdOVM1M2apduYs1c5qUFn9BAIxUAIEZgAYxTJhWSp9D3NnK0ZcFRV+3XbbWTIMQ9dff6oef/wthcMxfeMbf9bq1R8tan+1ibFSYDMjZRwmvHtXXjjet/4fsmKxbretmTFTdQ2zVTtrVjYY18yYKX9F5RAfNeAuBGYAGMUy7RhS6QPz/fev17PPvidJ+sY3PqApU6okSePHl+uaa07RN77xZ/3612/p2We369RTe797X116aLkW85ASSsjr0h9Bze9s0bu//512v7BOjS+9oPDOHd1u56+s0vgFCzVh0UmacOJJGr9gkYI1tUN8tAAkAjMAjGq5gbmULRnbtzfrG9/4syTpAx84Qp/+9PF56y+7bL4eeGC93nnnkG644U96+ulPy+v1FNxnZixm27B1yGzS2OT4kh3vSGZblhr//pK2PvWktj31hA5ufrPb7WpmzEyH45NVv+gk1c5qcPWtiIGRhMAMAKNYfBAqzLZt66qr1qqtLa7ycp++971/6tIH6/eb+ta3ztDSpb/Shg379cADr2n58hMK7rc2UZedP+g94OjAnOjo0I6//CkVkv/3t+rYtzdvvTcU0oRFJ6v+xBM1YdFJql94ooK1dT3sDcBwIzADwCgWH4QK8wMPvKa//GW7JOnGG0/X1KlV3W531lnT9aEPHanf/36bbr75r1q8eJZqa0M97tcnv6qS1Woxmx3Zx9yxf7+2rX1K2556Uu898wcl2tvz1ofGjtORZ5+joz5yniafdjrDtQGjCIEZAEaxUvcwv/dei1aufEaSdNppU3XxxccX3P5b3zpDzzxzv5qaIrrllr/p//7fMwtuX5sYoxazWQcdEpibt23VO795XNv+90nteXGdbMvKW187q0FHnn2ujvrIuRq/YBEtFsAoRWAGgFEsU2E2bEOmBhbGbNvW1VenWjHKyrpvxTjcjBl1uvTS+br77pd1772v6uKL5+qYY8b2uH1tcoze1Ttq8o7eoeVs29aeF9bpH3fdoa1PPSHZdnad4fFowkmnpELyOeeqZvqMYTxSAKVCYAaAUSwTmP22X4YGNt7uT37yup555l1J0sqVHyh6fOVrrz1FDz+8Qfv3d+iGG/6kX/ziEz0G7cwtsg+ZTbJkyaPCFwqOJFYyqa1P/kb/uOsONb78Yna5t6xMU8/4kI76yLma9uGzFRrb8y8MAEYnAjMAjGLZu/wNsB1j587WbCvGqadO1bJlc4t+bVVVQNdff6quvnqt/vzn7XrqqS0655zuK6u1idRIGUkjqRZPs2qskT9MWrytTZse/IlevfsHanl3W3Z55RHTdMLln9fsT31avoqK4TtAAIOOwAwAo1i8BIHZtm1dc81atbbGsq0YHk/fqtUXXjhH9933qtav36uvf/0ZffCDRyoY7PojJjMWsyQd9O5XTWzkBub2vXv12pr/1uv33qPowYPZ5ePnL9C8z1+p6ed+VB4vP0YBNxg9fwsDAHQRy2nJ6K8HH3xDf/jDNknS1752mqZNK64VI5dpevTtb39QUup22j/84d+73S5ohxSyUqNDjNSRMpo2v6k/Xv1F3b/gWL182y3ZsHzkR87V4sef0iee+qNmnP8xwjLgIvxrB4BRbKAV5l27WvW1r6VaMd7//im9jqVcyCmnTNbHP96gRx99U7fdtk4XXHCsJkzo2qpQlxijnf52HfSOnMBs27a2PfOMnrnpZm37399ml5uBgBr+dalOuPzzqp0xcxiPEMBwGrLAbNu2Vq1apYceekjhcFhz5szRypUrNWvWrKJef9ddL8rrNTRxYoUmT67UhAnl8vkYngeAu8WNuKT+BWbbtnXttU+rpSWqsjJvv1oxDve1r31Av/3tFrW3x/Xtbz+rH/zgI122qUuO1U69N2IqzM3vbNEzX/6SdvzlmeyyYF2djrvk33Tc8stUNm7cMB4dgJFgyALz6tWr9cgjj2j16tWaNm2a7rzzTq1YsUJPPfWUysvLe3395z//ZN5zj8dQfX25Jk+uPOxRlZ0fMybU65BIADCaxYyopP61ZPz85xv09NNbJUk33HCajjqqZsDHM3lypa644iTdfPNzeuihDVq+/AQtXDgxb5vMhX8HzQOyZQ94dI/+SsbjevW/fqAXv3uTkpGIJKl6+tE64fIvqOGCC7mxCIAsw7ZzBpAcRGeeeaaWLVumZcuWSZISiYROO+00XXfddVq8eHGvrz/qqNu1fXuzLKv4ww0GTdXUBGWaHnk8hgzDkMej7PPUQ/J4Op+bppEO2bZsO1WBsazUtPO5nR52MzXNPM98KTNf0d6fZ47U7sNrBvbtyn354bvK3Xdvb5P7e8jhv5QYhi2PT+mHLcOUPB7JMCXDK3lMW4YnMy8ZnvQ2XqWWZ5Z5Us89ppGezywz0q/Lf3hMQzJsyUhtJ6WWy8iZGpnndnY+uzzzQ9tIzxl25+dMz2SeGzmvMwwj73n2fWXIMOzU1JPZp/L2efj+0l/91NfU6HxNd1/3zAZGztMus7nb26ljzfve2p37zCzPDS+ZecNIzeV+nYyc9887B+zcqZG/TN1sd3hcstNfF7u748h9//Q+DKPzc3T7nqnXG4Yhn8+jeNyS7NzPm/8aI72/XMZh+8w9YruHbbpsYKe/WHbep839tivnQ+Z9Hbv8G8t5TegT2+Sd2ia9MFk1z56g6uqgqqsDqqnpnFZW+mWa+Zes7N7dqtNOu18tLVGdcspk/epXFwy4upzR0RHXqaf+WO+916IFCyboyScvzNv3dt82PVbzoCRp+YHPq8KqLMn79sXeV1/Rn676ova/vl6S5K+q1tm3fldH/L8XyB6mAO8GiYSlSCShSCShaDSpaLRzPhZLKpm0lEjYSiat7HwikZnvXJeatw7bvus0tU3+/iwrtcyyOh+Zn/W5yzqXZx6p/BCLJQ5bl58Ncudzt8vNDZntcrfJXZbZVurcNjOfmnafG3rKDj3ljK7bqcvzQtmgcG7ofl2hHFMoe/Q3/vT3/eLxr+U9H5IKc2trq3bu3Km5czuHKfJ6vZo9e7Y2btxYVGDeuvVKHTgQ1q5drdqxo1U7d7Zqx44W7djRop07W7OPpqaO7GsikaT27GkblM802himrVCdFKyR/OW2vGWSL/3o7bmvzJY3JHkDkhlIT/2SGbA7n6eXeQOSNzjcnxZwn+f+tFu/v25ft+sMQ6qsDKimJhOkg9qzJ6yWlqhCIa9WrfpISVvcKioC+uY3T9fy5b/W3/++Rw8/vFEXXnhcdv04u7PFodnXpOpE3y8y7K94e7vW3fwf+sddq7J35Ztx/mJ98Dvf1aSGo9Xc3K5kckjqSCNCPJ5UOBxTW1tc4XBM4XBcbW2x7LJUmE0F2u5CbnfrC73GTV9bOMuQBOZwOCxJqqqqylteVVWVXVeMMWMqNGZMhY4/fmKP27S1xbRjR4u2b2/W9u3Nam6OdvmNMZm0ulmWvz5TNUxVpY28SmJmmqlaH75OUpf51NTImz98XaHnucvkTcqqiEhlcVnBmOxgTHYoLiuQmtrBWHp5PP2IyQ4kiv46j2qWOit4dk6lsKdl2Yqk3aXyl18VzVnfYwUxM+laITz8dXbe8m6qWXbX+W5/zPT3Z49hZ19++Lvb2dJt7vaZje1u3tLuupPDKuaZZV0q30b++vzX2/nPddjrja6vMwx1WZa7nXHYexgOGScoGZVa/1GpysqkWltjXdbbttTSElVLS1Tbt7fkrbvppg9p0aIpJT+mZcvm68c/fk1/+tM2ffvbz+rii+epsjIgSapVmQIKKKqoolWtqlPvbXmlsGXtWv3ms5/Voa2pNpTKSZN07p136picok119ehtw4jFktq1q1U7d7Zki0qZ+QMHOhQOx9TaGk1PU6E4FksO92EXzev1dHmYppGe9v788Pn8vzYX80j9HM78JTqzPDcPdLesUF4odip1zRXFzKemfcslGT39JfnwTtdCrxvINsW8V7FK0Z07JIG5Ij2ge0tL/v+oW1paVF9fX/R+iv3Nf9y4kMaNC2nhwgl9O9ARIKmkwp5WtXpaFPa0qDX9yF3W4enofUd9YNiGfPLJa6cePtsrr/ypqe1Lr/PKtL3yyCNTXpm2KVNmenr4c1Om7ZUpUx7bk/pzuDzyKDWfWZb/PPtMhm1k7/5lHP5fdn/5/5mmoZrqcjW3juDqUHeh0k26+SVgKJmmoerqsh7/P5L5VSD3V4LDfz3o7teFvD879rh15y8oub+sdH1991+Y7n9N6Vzmt/265gd+6QepP3m3tER16FBEhw5F1NwcVXNzRIcO5S87dCiimTPrtGTJHDU1Dc5f4r75zdN1xhnvas+esG644Q9aufID2XU1VWPU6N2l9yK7NLN9cP8S2NF0QM9+7XptevAn2WXHfWaF3r/ymwpUVaupqa3X82M42bat5uao9uwJa/fuzseuXa3ZZbt2tWrfvvaSvq/X61Eo5FUw6FUgYCoQ6JxPTXPnuy7z+3tel9qXmbfM5/PI6zXl9RpdgnEmcA6nkXyOYPANSWCurKzU5MmT9dprr2n+/PmSUj3MGzZs0Pnnn1/0fjJ9SKOdJUuHzIPa723UPm+jDpkHFfa0KGy2qt3T9x8cHtujoB1S0AopYAcVtIIKWqHssqAdzK4L2EH5bL98OeHYI3PYLroZKFvKu2jIKecIBkPql7C+nSOH9w4X/ncynP+Kkkp9JsOQqqsDqq4OFD2e8mD9mznmmDG6+OK5uu++V3X33S9ryZI5mj49daOS2kSdGr27dMCzf9De37Ztvf2rR/Tsv1+njv2pdpWaGTN1xm2rNOmU90vK/ez9OT8GfnwtLVE1NrZpz5427dkTVmNjmxobw9qzpy29PKzGxrAikb5Vgg1DGju2TJMmVWrixAqNGRNSRYVf5eU+lZd3Tisq8qfl5b7sdoHAyBl5NnX90nCH1KE/RzByDNm/hiVLlmjNmjU65ZRTdMQRR+jOO++Uz+fTWWedNVSHMCwSSuiAd5/2eRuzAXm/d58S6aGgCjFsQ+VWpSqtSlUkq1RhVaYe6fkyq1zBdAAerYEXgLNdd9379ctfblJzc1RXX71Wjz76L/J4DNUlxkrSoI3F3LrjPf35uqv17tr/lSR5fD4t+OJVWvCla+UNDv2FFrFYUm+8sU8vv7xbL720W6++2qhdu1rV0dH3djm/39SECeWaODEVhvMfqWX19eXy+xl6FSiVIQvMK1asUFtbm5YvX65wOKzjjjtO99xzT1FDyo0WESOSDcWpYLxXTeZ+2UYPvxXbUm1yjOqSY1SZrFKFVaWKZFUqIFuVKrMqsq0JADAajRkT0o03fkBXXbVWzz23Qz/84d91+eULs7fIbve0KWJEFLRLE2Jty9Lr9/5Iz3/7G4q3pa6RqV+4SGfc9gONmX1sSd6jGLt2tWbD8csv79b69Y29Vom9Xo/q68tzHhWaMKFcEyZUZJ/X15drzJhQyUY0AVCcIRtWrhSamtpG1J9BbNna723UO/63tdX/lvb5Gnvc1rRNjUmM07hEvcYl6jU2Ua+xiXHyqf+3s0Un0/Sorq58xJ0jGDk4R4aPbdu66KLH9LvfvaNAwNTTT39a9bM9emDMf0uSPnnw05qYGPiFh8l4XH+44v/TW488JEnylpXrlBtW6rjll8ljFq62DuT86OiI69VX9+rll3dnH7t3d39Be1mZT/Pn12vBgok6+ujavGBcV0cQHsn4f4i7jBuXP9zlyGlQGiWSSmiHb7u2Bt7WVv/bCpstXbbxW4FsME6F4/GqTY6RKf48BsB9DMPQrbeepdNP/7GamiL6/Od/qyd++68ybVNJI6km74EBB+ZER4d+92+fyd7WeuoZZ+qM21apcsrUUnwESangv2NHqzZt2q+NG/dr06YD2rhxv95884ASie4D1MyZdVq4cGL2ccwxY+T18pdDYCjYshU1oooZkdTUE1U0bz71PGZEFfVEU9P086t1bd6+CMxF6DA69K5/i7YG3tK7vq2Ke/KHbQpYAR0Zm6EjY0erPj5JVVY1PcUAkKO+vly33PJhrVjxG61fv1e3f+9FTbmpTge8+3RwgLfIjrW26MmLPqVdzz0rSZq99GKd/t3be60qF7JvX7s2bdqffhzIBuRwuOuwfRnV1QEtWDBBCxdO1KJFE7VgwUTV1DAwPTBQSSXU4elQxOhQ1BNRxIgo6ulITY1IdlnE06GoEVHEk15uREp2NTaBuQeHzCa9439LW/1va7dvR5c+5KpkjaZHZ+qo2AxNjE+hegwAvfjoR2fpE584Ro88sknf+9463XbNRGnCPjUNIDB3HDig33zq49r36iuSpHmfu0LvW/mtPg1BZtu2nn12u37/+2165ZU92rhxn/bvLzx857hxZTrmmLGaPXuM5swZp0WLJunoo2tpqQB6YctOh9t2dRjtqSDs6UjPt+fMd6S36ehSqBwoj20qYAcUsALy28HUvB2Q3wooYAfltwM6fHh4AnOONk9YGwOvaVPw9a5XbtvShMRkHRWdoemxmapNjqGKDAB9dNNNZ+q553Zo9+6w/vSLfTrui9JB7/5+7Su8a6d+fcFiHdz8piTp5Ou/rgVXXlN0WLZtW2vXbtX3v79OL720u9ttqqoCOuaYMdlwfMwxY9XQMEZjx47eG5wApWLJUtSIpKu/6bCbrgRH0tNUCI6oI70+akR6HgyhD7y2V4H00LkBK5gz7RxiN2CHFEiH4NxA7C0m/hKY8yWV1Lv+LdoQXK9t/i1530Sv7dXU2FGaHpuhI6MzVGY7Z0QPABgONTVBff/7/6R//ddH9eazER33RanF06y44vLJV/R+Dr3ztn79L4vV+t52yTD0gf+8Vcctv7So1yYSlh5/fLPuuOMFbdjQGdaPOqpGJ588WQ0NY7LheOLEimG/YQYwlFJ9vxG1e9rU5gmr3dOWfRz+vMNoL0nLg8/2KWSVpe8dUaaQFUo9t1PTUM7yQDoYFxV6S8i1gfmg2aQNwVe1KfC62s3Om4WYtqnp0VlqiB6rqbEj5e3D/8ABAL374AeP1PLlJ+iJF1NtFDKkQ94DGpco7u6s+19/Tb/+14+pY99eGaapD/3gvzXrExf0+rpoNKGHHtqgVate1LZtzdnlc+aM09VXn6xly+arubmDERDgOJlKcDboetqzgbfd066OvFDcJsvo/y3TvbYvFXBzbqAWytxIzSrLzofSYThohUZF1nJVYI4rprcDb+qN0Kva7duRt25sYryO7ZirhugcBe3QMB0hALjD17/+Af35I9tkJffJY0o7Y40a5+k9MO9+YZ2eXPovijYfkofFRWcAACAASURBVBkM6ux7fqwj/+mcgq9pa4vrgQfW6667XtKePZ0FkpNOmqSrrjpZZ555pLxeU6bJ6BUYXeKKq81sVdiTerR5wmrzhDsDcXoaMTr63QZh2IbKrPL8h12hcqtcIas8G44zQXg0hN/+cHxgtmWr0btbG4LrtTmwIa9x3G8F1BA9VsdGTtC4RD09yQAwRMrLfbr91nP023ceUN1MW48993fNO/WEgq/Z/oen9dQln1aivV2+ikqd+z8/1+T3n9rj9ocORbR69T/0ox/9XU1NkezyD35wmq666mSdcsrAx34GBkNmOLSwp0VtnrDCeaG4Nfs86on0vrPu30Ahu0xlVnm65aFM5Va5yqwKlVnlKk9PU3cUDnETNTk4MCeV1BvBV/V66BUd8O7LWzc5doSOjczVjGiDY38TAoCR7qSTJunZxlpJTWpM7tVvf/u2zjlnRrfbbvn1r7T28hWy4nEF6+r0zz//pcafML/bbRsb2/Tf//2y7r33VbW1xSVJhiH98z/P1BVXnKQTTqgfrI8E9MqWrXajTWEzHX5zAnDn87ASRrxP+zVsQ+VWZTropsOwnTOfDsaE4P5xXGC2ZeutwEb9rfwZtZidPWrlyQrNjhyvYyNzVW3VDuMRAgAyFk07Wq+qSWNnS9ec8bROPHFSlxEoNvzkfj1zzRWyLUvlkybrow/9SnWzGrrsq6mpQ7ff/oLWrPmHotFUD6bX69EnPzlbX/ziiZo5s25IPhPcK66Y2sxwtjUi0yYR9rRmWyfaPGFZRt/65L22TxXJClVYlSq3KlPTZGqaeYSsMkLwIHJUYN7u26bnyv+Yd4vqI6NH67jIfE2LTedEAoARZpw9TpJUN9NW06E2XXvt07r33o9mR6b4x12r9NyN/y5Jqj5qus5/+HFVTj0ibx/hcEw//OHfdeedL6m1NdV2FwyaWrr0eH3uc4s0dWrVEH4iOJEtW61Gi8I6oN2+vWr1tyrsCastp2+4zRNWzBPt874DVjAVepOdYTjzPBOQA3aAttFh5ojAvM/7/7d33+FRVnkbx79TUyY9QOgdQxAQAgpIkSKubX3VdVXAZXlB1sKqq1jAtYK+Yi/IKq6iCLIiimXV3UUWVCyoFAUhESxID6RnMpNMff+YZCACASTwzGTuz3XlyszT5jdcJ5Obk/Ocs5tPHR+yzb4lvK2FtzUDnUOPeblVERE5ftL9TQCw2CG9E7z//vcsWpTHpZd244sZ01n92MMAZJ7cg98ufJPEZs3C53o8fubNW8ejj35BYaELAJvNzLhxp3D99aeRlaWpQOXI+fBRbimlzFJKmaWEcnPt41LKLaX4a2eOSD6y69XeLOcIJO0Lwr/oFXb4k49qOkUxTlQH5jJzKSsdH7MpfmN4W7ovk9Mrh9LB01n/GxMRiXDp/n3DJPpfkMZ7D5cxdeoy2pZ9xZqasNz81H6ct2ARcalpAAQCQRYvzmfGjM/YujU09M5kgt//vhu33jqAtm1TT/wbkYgXIFAzPKKcCks5ZZYSyvYLxZWWiiO+VnwgoSbwJtUE4lAodgRqh00kaYhEIxOVgdltcvFV4mesT1gTHgfk8CfRzzWYnKoeaqAiIlEiLhiPw59MpaWCUde1Z/msDVgrdvPlXdOwAs165/Lb197C5nAQDAZZuvQn7r//kzoLjpx9diemTh1ITk4T496IGGr/G+kqzOU4LeU4zbWPK8KzTRzp1GrxgXhS/Omk+tNI9aeTGkglPZhBm5QWeIvNmPzKGbEmqgKzFw+rE79kdcLK8PRw9kAcfVz9OcXdV3/WEBGJQhn+zFDvXlMXd985kM1Tr8Dqr4K4REY+Owebw8HKlTu4//5P+OKLHeHz+vdvxR13DOa001oaWL2cKEGCOM0VlFiKKLYWUmIposRSTIWlDKfZeVSLbZiCJpICyaT600nxp+0XjEOP44LxB5xjsZhJx0ExlfjR4jaxJmoC8yq+5L9p/6XS7ATAHLTQ051LX9fpJGihERGRqJXuy2SbfQslliK67lqNm1Ao/mfgXNrnBVhw51ssWfJj+Phu3Zpwxx2DGDGig5atboT8+CmzlNQE46KaYFxEibUI7xFOtRYfSCDZn1IzVjjlF49DN9JZsBzndyKNSdQE5nd4G8xAELKrT6Z/5RBSAhqnJiIS7TL8mQAUf7yKopnzAMiz9WK1tzvjxr0TPq5du1SmTDmdiy7qitmsoBzN/Phxmstrbqgro8xSSqmlmBJLEWWWksNOuxYXiCPd34R0XwapgTSSagJxciCFJH+y1liQBhc1gRmgnacjA5xn0NSvSedFRBqLdH8mFLoIjF2MKRgkpV17zvjLYyy88WMAmjZNZPLk/lxxRQ/sdvUKRoMgQdwmV3jWiXJLGeXm0vBzp7niiMYTJ/mTSfdnku7LJMOfSbo/kwxfExKCibqxX06oqAnMU7kDtzOA369xQyIijUm6NxPzle9h2unEZLUycvYcmvXuQ9CeSHm5h8svPxmHQz2GkcplqmSvtYC91gIKrXsothZSZik94pXqrEEbqf40UvxpoVDsyyTD34R0fwb2YNxxrl7kyERNYE4gATeVRpchIiIN7Mc5CzC9sxmANneMIyu3LxCaJk4iR5Ag5ebSmnC8pyYgF1BpcdZ7niloIjmQQoo/lRR/Gik1N9bVPldvsUSDqAnMIiLS+BTlbeSze+4AIDi8HQk3jwCXwUUJfvwUWwoprOk5DoXjvfWuZJcQSKSpL4smvmb7zT6RSlIgRTfYSdRTYBYREUP43G4+uOp/8VdVYclMxjPvAkrsJQrMJ1htON5j281e6272WHdTaN2zb2W7g0jxp9HUlxUOyE19WTgCSeoplkZLgVlERAzx2T1/pTg/D4DOf7uVjS3dlASKDK6qcasNx3ttoWB8uHBsDprJ8DcJh+LagHyweYpFGjMFZhEROeF++td7fPvi8wB0Hz+Rtr85n40sosrsxm1ykRBMNLjC6BcgEOo5tu5mj602HBfUG44zfU1p5mtBM19zmvmak+lrgkVRQUQ/BSIicmI5d+1k2V+uBSAjpxun330fLt++sbHF1kJaedsaVV5UChKkzFJCgXUXe6y7KLDtZq+14JAzVZiD5ppe4+YKxyJHQD8ZIiJywgT8fv476U9Ul5RgiY/nrNkvYk1IIDkQjzVow2fyUmIpUmCuR2iJ6HIKrLvZY9tVE5J3H/KGPPUcixw7/bSIiMgJ8/WsJ9nxSWhBkoH3/h8ZXXMAMGEi3ZfBXlsBxRaNY95fkCAlliK22H9gh20rBbZduM0HvzPSFDSR4W8SCsbeFmT5WtDE11ThWOQYRc1P0FvjxnHKDbeQ1Fq9DiIi0ahgzSq+nHEfAB3OPo+Tx02osz/dn8leWwElVgVmH16227eyxf4DP9t/oNxSdtDjUn3pZIV7jlvQ1JuFHfsJrlak8YuawPzN3LkUbMznon/+B5PZbHQ5IiJyFDwV5Xxw1XgCPh+O5i0Y+vjTmEx1pyDL8DcBoNhSaESJhis3l7LF/iNb7D+w3f4zfpOvzn5r0EZrT1ua+1qR5W1BM18L4jVbhcgJETWBGWD3V1/w3aJX6XrZaKNLERGRo/DxbZMp/3kLmEyc+be/k5CZecAx6b7QNqelAo+putEvi+zHzy7b9ppe5B8pth74H4VUXzrtPZ1o7+lEK28bDa0QMUjU/OS1O+MMfv7oIz6fdhcdzjmPuJRUo0sSEZEj8N2iV9n0+kIAcq+/iVaDhhz0uAz/vhBdYikmy9fihNR3Ivnw8pP9B76Pz2OrbcsBN+qZgxZaeduEQ3KaP8OgSkVkf1ETmM956ilm5+bi3ruHVQ/PYOD0B4wuSUREDsO1dy+f/PVWALL69OXUW28/5LGp/nTMQTMBU2j+4MYSmAME2Gbbwqb4jfxg34TX7KmzP8mfTDtPJ9p7OtLa015jkEUiUNQE5qyePek54U9889wzrHv+WXLGjA3fXS0iIpFp5fS7qC4txWy3M+Lp2VhstkMea8FCqj+dEmtR6Ma/g8+SFhWCBNll3cGm+I18H5d/wKwWzbzN6VSdTXtPJzL9TbWktEiEi5rADNBvyl/ZtHgR7sJCVvz1Vi54/Z0DbhoREZHIsHPlZ+S/+goAudfdSFqnLoc9J92fSYm1KGqnliu07GFT/EY2xW2kwlJeZ1+aL4Ps6m6cVN1NQy1EokxUBea41DT633Evy/8yiR0rPuKHf75F5wsuMrosERH5Bb/Xy8e33ghASvsO5F5/0xGdl+HL5Mc4KImiwFxmLg2H5F/euJfkT6ZLdQ7Z1d1o4stST7JIlIqqwAzQ9fIxbHh5DnvWrObTu26n3YizsDkcRpclIiL7WffcMxTn5wEw+IGHsSYkHNF56TU3/pVZSvDjx4LluNV4rPZad7PCsYwd9q11tscH4ulc3ZWTqrvR0ttGIVmkEYi6wGwymxn8wCO8cfZwKnfuYM1Tj9Jv6l1GlyUiIjUqdmznq4dDN2Z3PP9/aDfirCM+t3Yu5qApSKmlmEx/0+NS47GoMrlZ6fiY9fFrqc3CtqCNDtVdOKm6G209HSI66IvI0Yu6wAyQ1bsPOWPGkjd/LmtnPUXXy8aQ2rGT0WWJiAjw6R1T8LkqsSY6GHTfjKM6N923b2xvsaUoogJzgAAb49fxueMjqsxuABz+JAZUDqFzdVdsmt1CpNGK2iXz+t9+N3GpaQQ8Hj65c4rR5YiICPDz0v/w43vvAHDarbeT1LLVUZ1vw06yPwWAkoMs5GGU3dYdLEp7meXJ/6bK7MYcNJPr6s8VxX8ip7qnwrJIIxe1gTmhSRNOm3IHAD9/8B+2LPmXwRWJiMQ2n9vNiim3AJCR040eE6/+VddJDy+RbfyNfy5TJf9Nep9F6fPYY9sNQFtPB0aXTGBg5VDNmSwSI6I2MAOc/MfxZHbrDsAnd0zBV1VlcEUiIrFrzZOPUr51CwBnPPh4vXMu1yejZonsEqtxgTlAgG/iVzEv4zk2JqwDINmfwrllF3FB2aXhmxNFJDZEdWA2W60MnvEIAOVbfuLrZ2YaXJGISGwq/WEza55+AoCuo66gRf8Bv/patWG0xFJMgECD1Hc0dti28mr6i3ycvBSPuRpL0MKplQMZUzyRTp5szXohEoOiOjADtOx/Ol1+dykAa554hIrt2wyuSEQktgSDQT6+7WYCHg9xaWkMuHPaMV2vtofZb/JRYS4/zNENp5xy/u14m8VpCyiy7gWgQ3VnxhRPpL9rMDZ+XY+5iES/qA/MAKffPR2bIwmf281n99xhdDkiIjHl+7cXs/3j5QAMuHMaCU2aHNP1ascwAwcsBHI8BAnyTdwqnuJx8uM2AJDqT+O3Zb/n/PJLSA2kHfcaRCSyNYrA7Gjegr6TbwPgh3feZPvHHxpbkIhIjPBUlPPpnVMByOrTl5wxY4/5mgnBBBICicDxX/Gv2lTFv1LeZLljCR48WINW+lcOYXTxlbT3aLpSEQlpFIEZoOefriGtcxcAVtx+C36v1+CKREQavy8fvB9XwW5MZjNDHnock7lhfq3UDssothy/HuYC6y5eTX+RH+I2AdCRTowtu4pTXadjjc5lCkTkOGk0gdlitzPo/ocAKNn0Hd++MNvgikREGrfC9etY/3zos7bHlVfRtMcpDXbt2mEZx2OmjCBBvk74itfT5lFuKcMUNDHANYSxjCMlkNrgryci0a/RBGaAtsNG0OHc3wLw5UMP4CooMLgiEZHGKRgI8NGtNxIMBEjMas5pt/21Qa+f4a/tYS4iSLDBrltlquL9lMWsSPovAVOARL+DC8sup1/VIMyN61eiiDSgRvfpMHDa/2GJj8frrODz6XcZXY6ISKOU98rLFKz+CoCB0x/AnpzSoNdPrxmS4TFX83HSBw0yNGO3dScL01/kx7jNALTxtGdUyXhae9sd87VFpHFrdIE5pW07cq+/CYDvXvsHu778wuCKREQaF3dhYbhDovWQYXT+n4sb/DWa+ZpjC4amcVuXsIZXMp7njdRX2BS3ET++o7pW7RCMN9Lmh4dg9K8czAVll5IYdDR47SLS+DS6wAzQe9INpLRtD8CKqTcT8B3dh6uIiBza59Pvorq0FLPdzpAHH8FkaviFPOKDCYwqnkBv12nEB+IB2Gnfxn9S3mFO5iw+dSynzFxy2Ov8cgiGw5/ERWWjONU1UEMwROSINcpPC2tCAgOnPwBA4fpv+PTOKQZXJCLSOOxa+Tn5/5gPQO6f/0Japy7H7bVSA2kMqhzO/xb9mZHl59PC2xqAKrObNYlf8HLmbN5OXcgP9u/w4z/g/N3WnbyaPqfOEIzLS/6XVt62x61mEWmcLPfcc889RhdxpNxuL8Hgkd38kda5CxVbf6Zow7fsWbuahMwmNOvd5zhXKEYxm00kJNiPqo1IbFEbOXZ+r5f3x16Gu3AvKW3bM3L2HMy247/6nRkzTfzN6FbVk07VJ2HCRKmlGL/JT5mllM3x+WyMX0e1qYpUfzr2oJ2vE75iSco7VJurQkMwXEMY7jwbO/aDv4bahxyG2khscTji6jxvtBNNmkwmhj76FGVbfmL3lytZ8ddbSe3YiTZDhxtdmohIVMqb9xLFeRsBGDzjYawJCSe8hib+Zgx1nsVA51A2xefxbfxa9th2U2lx8pXjM1Ylfk6aPyM8HZ3Dn8RvKi5Qr7KIHJNGOSSjliUujnNeWkBy23YE/X7+c+UfKdm8yeiyRESiTjAQ4Otnnwag7Zln0e7M3xhajw07J1edwmWl47i05I90c5+CNWgjaAqGw3JbTwcNwRCRBtGoAzNAQpMmnDf/NWxJyXjKy3hvzO9xFx3fpVZFRBqbLUv+TfmWn4DQjdWRJMvXghHOcxhfNIkzKkbS2tOOgc5hmgVDRBpMow/MABldczjr7y9iMpsp3/IT/xl/BX6Px+iyRESixjezZwHQpHtPWp4+yOBqDi4uGE/Pqj5cVDaKXHc/TDT87B0iEptiIjADtBtxFqdP+z8Adn7+KR/d8hcN2hcROQKF69ex89MVAPS86trjMo2ciEgki5nADNBz4jV0GzsegPx/zOfrWU8ZXJGISOT75rm/AZDQtBldLvydwdWIiJx4MRWYTSYTgx94mNaDhwKhyfd/+vf7xhYlIhLBXAUFbH7zdQB6jJ+IJS7uMGeIiDQ+MRWYASw2G2e9MJe0Tp0hGOSDqydQuH6d0WWJiESkb196noDHgyUuLvwXOhGRWBNzgRkgPi2dc195jbi0NHyuSt4fezmuggKjyxIRiSi+qio2zH0BgJMuuYzEpk0NrkhExBgxGZgB0jp25uw58zFbrTh3bOf9P16Oz+02uiwRkYixefEi3IWFAPT807UGVyMiYpyYDcwArQYNYciDjwGwZ81qlv3lWs2cISICBINBvpkdutmv9ZBhZOZ0M7giERHjxHRgBuj2h3GcctUkAL5/8w1WPTLD4IpERIy3/eMPKc7bAMApV6t3WURiW8wHZoAB99xHu5GhZV6/evgBNr/1hsEViYgYa13NVHJpnbvQdvhIg6sRETGWAjNgtlgY+ewLZNT8yXHZ9ddQsPorg6sSETFGyfeb+fmD/wCh+etNZv2qEJHYpk/BGvbkFM6dt5CEJk3wV1XxziX/w4/vv2t0WSIiJ9z6vz8DQFxaGtmXjjK4GhER4ykw7yelbTvOeflV7CmpeCud/HvcaL6YMZ2A3290aSIiJ0RVSTH5CxcA0G3seGwOh8EViYgYT4H5F5r3PY1LliwnPbsrAKsfe5j3/3AZ1WWlBlcmInL8bZw3F5/Lhdlqpcf4iUaXIyISERSYDyKtY2d+96//0vH8/wFg69IlvH7WUIryNhpcmYjI8eP3elk/5zkAOl1wIUktWxlckYhIZFBgPgR7UjK/eeFl+t9xD5hMlP30I2+cM4Lv33nT6NJERI6LH999m8qdOwAtVCIisj8F5nqYTCZyr7+J8//xOnGpoWW0l1z5Rz6ffrfGNYtIoxJaqGQWAM1P7UdWbl+DKxIRiRwKzEeg7fCRXLLkQzJyTgZg7czHeW/U76gqKTa4MhGRhlGw6kv2rFkNwClXTzK4GhGRyKLAfIRSO3Tkd+8vpfOFFwOw7cNlvD5yKIXfrje4MhGRY1e7DHZym7Z0OOd8g6sREYksCsxHweZwMHL2iwy4+z5MZjPlW7ew+Lwz2bx4kdGliYj8ahXbtvLju28D0GPCVZitVoMrEhGJLArMR8lkMtF70vWcv/BN4tLT8bndfHD1BD6963YCPp/R5YmIHLX1LzxHMBDA5kgi54qxRpcjIhJxFJh/pTZnDOP3Sz6iSfeeAHzz7NP887KLcNbcYS4iEg28Ticb588FoOuoMcSlpBpckYhI5FFgPgYp7dpz0btL6PK7SwHYseIjFgzI5YsZ0/E4KwyuTkTk8PIXvoKnvAxMJnpOvMbockREIpIC8zGyJSZy5t/+zqD7H8Sa6MDndrP6sYd5pV9vNrz8ooZpiEjECgYCrHvuGQA6/OZcUjt0NLgiEZHIpMDcAEw1PTNjvlhLtz+Mw2Q24967h49uvoHXhg/k5/8uIRgMGl2miEgdW5b8m7KffgSg51VaqERE5FAUmBuQI6s5Qx99ikuXfUqbYSMAKM7P471Rl/DPSy/UFHQiElHWPReaSq5J9560PH2QwdWIiEQuBebjILPbyfx24Zuc/+ri8GIn2z9azmsjBrHsL5Oo3L3L4ApFJNYVrl/Hjk8+BqDnn67BZDIZXJGISOQ65sD8xRdfkJ2dTe/evcNfQ4YMqXNMWVkZkydPpk+fPvTt25fJkydTXl5+rC8d8doOP5NLl33C0MefJrFZFgSD5C+Yxyv9e/PlQ/+Ht7LS6BJFJEZ9U9O7nNC0GV0uusTgakREIluD9TB/9dVXrF27lrVr1/Lxxx/X2XfLLbdQVFTEBx98wJIlSygqKuK2225rqJeOaGaLhW5jxjJm5Vr6Tr4Na0ICPpeLVY/M4JX+vdn4yssE/H6jyxSRGFJZsJvNb74OQI/xE7HExRlckYhIZDvuQzJ27NjBRx99xJQpU8jIyCAjI4MpU6awbNkydu7cebxfPmLYkpI47ba/MnrlWrqOugJMJlwFu/nwxj+z8Iz+rH9hNtXlZUaXKSIx4OunnyTg8WBNSKDb2PFGlyMiEvEabP3TESNG4PV66dKlC5MmTeK0004DIC8vD7vdTteuXcPHdu3aFZvNRl5eHi1btjzi17BYTET7sOvU1q0Z+fSz9Lp6Ep/edTvbPlpOyabvWDH1Fj6fdhddLrqE7n8cT1afvhpTeBRCbaNxtBE5PtRGQlx7Ctjw8hwAuo+bQHLzLIMrigxqH3I4aiOx7ZCBecqUKbz55puHPPG0005j3rx5dOzYkbfffpvOnTtTVVXFwoULmTBhAq+99ho5OTk4nU6Sk5MPOD8lJQWn03lUxaamJh7V8ZEsY0h/Tlr+X35cupQvZ85k83vv4XO7yVswj7wF82jeqxd9rrqKHqNHE5eSYnS5UaMxtRE5PmK9jaye8Sw+txtLXBzD77yd5AyH0SVFlFhvH3J4aiOxyRQ8xATBlZWVVFdXH/JEm8120CAM8Ic//IHevXtz0003sXTpUm688UbWr687pVr37t158sknGTFixBEXW1bmwu9vnPMZV+zYzsb5c9kwby6Vu/YNVbE5HJz0u9/T/Y8TaNart4EVRjaLxURqamKjbiNybNRGwF1UyNzeJ+OtrKTnxKs5Y8YjRpcUMdQ+5HDURmJLxi86Ew7Zw+xwOHA4fl3Pg8lkCi/UkZOTg8fjIT8/PzwsIz8/H6/XS05OzlFd1+8P4vcHflVNkS6xeUv63jyV3L/cws9Ll7Bh7gtsXbYUb2UlG15+iQ0vv0TTU3pz8tj/pctFl2BLSjK65AgT+vNYY24jcqzURtb87Wm8lZWY7XZ6TbohZv8dDk7tQw5HbSSWHfMgnBUrVrBt2zYCgQBut5uXXnqJNWvWcNZZZwHQqlUrzjjjDB566CGKi4spLi5mxowZDBs27KjGL8cKs9VKh7PP5fx/vMEVX62jz403h6akA/Z+s5YPJ1/PSz2z+eiWG9m58jP8Xq/BFYtINKgqKWb987MByBn1B5JatjK4IhGR6HHIIRlHatasWSxatIjS0lLi4uI46aSTuPbaaxkwYED4mNLSUqZPn86HH34IwNChQ7n77rtJOcqxucXFlTH5vzq/18uW//yLjS/PYduHy+rssyen0HrIUNoMG0HbYSNIbtPWoCqNZbGYychwxGwbkcOL9Tby5YP3s+rRBzFbrYz54uuY/aw4lFhvH3J4aiOxpWnTusOOjzkwn0hqpFC25Sc2zp/LdwsX4CrYfcD+9JOyaTvsTNoMG0HLAQOxJiQYUOWJpw8yOZxYbiPVZaXM69MDT3kZOVf8kWGPzTS6pIgTy+1DjozaSGxRYG4kgoEARRu+ZevypWxdtpTdX64k4PPVOcYSH0+r0weFep+HjyStc5dGO1WdPsjkcGK5jax69EG+fPB+TBYLoz9fQ2r7DkaXFHFiuX3IkVEbiS0KzI2Up6KcHZ+sYOuypWxdvpSKrT8fcExym7a0GTqc5qf2o1mvXNK6nITZYjGg2oanDzI5nFhtIx5nBfNyT6a6tJTsy0YzYuazRpcUkWK1fciRUxuJLQrMMSAYDFL24/eh8LxsKTs/+wSf233AcTZHEk179aZZr1yycvvQrHcfklq1jspeaH2QyeHEahtZ89RjrLzvHkxmM6M+/Yq0Tl2MLikixWr7kCOnNhJbFJhjkK+qil0rP2PrsqXs+HQFxXkbDhi+USuhSVOa5fbZF6J75RKfkXmCKz56+iCTw4nFNuJ1Opl3ag+qioro8rtLGfnM80aXFLFisX3I0VEbiS2/DMwNtjS2RC5rfDxthg6nzdDhAPjcbgq/Xceer9dQsGY1e79eQ+kP3wPgLtzLz0v+zc9L/h0+P6Vde5r27EVa586k/NV5aQAAEJJJREFUdepCWpeTSO/cBXuyViAUiWTfzp1DVVERmEz0ufEWo8sREYlaCswxyJqQQPNT+9H81H7hbVWlJez9ei17vl7DnjWrKVi7OjwLR/nPWyj/ecsB10lslkVa5y6kdT6J9M6dQ487dSG5bbtGMzZaJFp5XS6+nvUkAJ0uuIiMk7INrkhEJHopMAsA8WnpdXqhAZy7drJn7Rr2rF1Ncf5GSr/fTNmWnwj6/QC49hTg2lPAzs8+qXMts91OWsdOpHXqQkq79iS3aUNy67YktWpNcps2xKWmndD3JhKLNs5/CXfhXgD6qndZROSYKDDLISW1aElSi5Z0PPf88Da/x0P5z1so/X4zpd9vpuT7TaHHP2ymqrgYgIDHQ3F+HsX5eQe9rj05haTWbWqCdChM1z5Oat2GxKbNMJmPeRFKkZjlq6pi7cwnAOh43gVkdjvZ4IpERKKbArMcFYvdTnqXk0jvctIB+6qKiyj5/ntKa0P095up2L6Niu1bqS4tDR/nqSinOG8DxXkbDvoaZrudxGZZJDZrFvretOZxVvO625tlYY2PP27vVSRa5b3ycnhIVd+bbjW4GhGR6KfALA0mPiOTFqdl0uK0fgfs81SUU7F9OxXbt+Lcti0cpCu2b8e5fRuVBbuhZsKWgMeDc/s2nNu3HfY141LTSGjWDEdWFmmtWmJOSiUuPYOEzEziM0JfCRmZxNc8V8CWxs5fXc2amY8D0P4359CkR0+DKxIRiX4KzHJC2JNTyMzpRmZOt4Pu91dX49y5g4rt23Du2I5rzx5cewtqxknvwVWwG9eePXjKy+qcV11WSnVZKaWbN7HjCOqwJjpIaNKE+IyMUJDOyCQuPZ241DTi0tKIT0snLi2NuNR04tLTia/ZbomLa4B/BZHjL3/hAip3hn4a+qh3WUSkQSgwS0SwxMWR2qEjqR061nucz+3GtXfPL4J0Ae69BfjLSynbXYC7qIiq4qLQmOpfTDPuc1VSsbXyoCsh1seamFgTqtOJT0sjLjUNe0pK+CsuZb/nySnEpaRgT0klLiUVe0oKlvj4qFwQRqKL3+tlzZOPAtB2xEiyevcxuCIRkcZBgVmiijUhgZS27Uhp267O9oNNKB/w+/GUlYYCdFER7uLaIF0UDtXuokKqS0O91NUlJVSXlRLweg94XZ/Lhc/lonLXzl9Vt9lmC4fp0FcytqQk7EnJ+54nJ2NPTsaelIwtqeZxcmi/LSkJm8OBzZGkKfvkkDYtepWKbVsBjV0WEWlICszSaJktlvA4Zo5wNeBgMIjP5aKqtOSAIF1dWlqzPfTcU16Op7yc6vKy8GNvpfOg1w14vVTVBPdjZU1MxOYIBehQuE6qCdRJ2MOPHdgdydgcDqy1xzkc4dC9/3f1fjcOAZ+P1Y8/DEDrIcPqzLMuIiLHRoFZZD8mkykcLJNbtT7q8wM+H56K8n1huuZxdVlpaHtFBd6KCjwVFXicFXidNY8rKvBUlIeeO534q6oO+Rq1vd3uvcfyTvcxmc37hWgH1sSaYF0TzK2JiXUfO5Jqntc91ppYc06iA6sj9F3TA544m954LbzAUN+bbzO2GBGRRkaBWaQBma1W4tMziE/POKbr+D2eOmHa63TiqazAW1kZeuwMbQs9D4Xs2n3eyprnTideVyXeykoCHs8hXysYCNSE+fJjqvlgLPHxdcK0tTZQ13yv3WZNSKx7XEJCTSD/xb6EhPAx6hnfJ+D3s+aJRwBoOXAwLfufbnBFIiKNiwKzSASy2O1YaoeTNAC/xxMOz6EvJ779Htd+9zid+Fyu8LE+lyu03+WqeV5zTs322lUfD/m6VVWh3vKaRW0alMlUE6YTsCbUBu+EUCBPSNgXtBNC2+1JDlIy0/AGLZjjEw441lp7nYSEUDBPiJ5Q/sPbiyn94XsATp2s3mURkYamwCwSAyx2Oxa7nfi09Aa7ZjAYJODx7AvULlcoUNf57toXvPff5qqs893ndu/b7w4d46+uPlwB+FyhEH/cmEw1gXr/MJ14wLbasG5NSAyH7X3H1HzF7/e9NpzHxx9zMA8GAqx67CEAWvQbQMuBgxvyX0BERFBgFpFfyWQyYYmLwxIX12A94fsL+Hz4qtz4KmuCdU2o3j9g+9xufG4X3sqaoL3/dpcLb802X815AU81nspKvK7QtmAgUH8RNTeB+lwu4Nhv2KxPnRC+X5C2JSRiSYjfb/t+oTs+AdeeAko2fQeE5l2Ohh5xEZFoo8AsIhHJbLWGpt1LSm6Q6/1y6sFwD3ltqHa78Lnc4eDtc7tD+1z7nvv2O9a7/3PXL/a5XPiq3PirqvC53UdUX+1rwK8bvpLVpy9thg7/VeeKiEj9FJhFJCbt30NOAw5V+aVgIICvqgp/lbsmZLvxu93hwO2vqtqvJ9yFr6oqFL5rvvurqvC6XDXhu+a4Kvd+Id6NJT6egdNnqHdZROQ4UWAWETmOTGZzzXR7icQbXYyIiPwqmiRVRERERKQeCswiIiIiIvVQYBYRERERqYcCs4iIiIhIPRSYRURERETqocAsIiIiIlIPBWYRERERkXooMIuIiIiI1EOBWURERESkHgrMIiIiIiL1UGAWEREREamHArOIiIiISD0UmEVERERE6qHALCIiIiJSDwVmEREREZF6KDCLiIiIiNRDgVlEREREpB4KzCIiIiIi9TAFg8Gg0UWIiIiIiEQq9TCLiIiIiNRDgVlEREREpB4KzCIiIiIi9VBgFhERERGphwKziIiIiEg9FJhFREREROqhwCwiIiIiUg8FZhERERGReigwi4iIiIjUQ4FZRERERKQeER+Yg8EgTz31FIMGDaJXr16MGTOGTZs2GV2WGOS9995j9OjR5Obmkp2djc/nq7M/Pz+fMWPG0KtXLwYNGsTMmTPR6u+x45FHHuG3v/0tubm5DBo0iJtuuoldu3bVOUZtJLY9/fTTnHnmmfTp04d+/foxYcIE8vLy6hyjNiK1Jk2aRHZ2Np999ll4m9pHbIr4wPzCCy/wxhtv8MILL7By5Upyc3OZMGEClZWVRpcmBkhJSWH06NHcfvvtB+xzOp1ceeWV5ObmsnLlSl544QUWLVrE3LlzDahUjGAymXjggQdYuXIl77//PiaTiauvvjq8X21Ezj33XN544w1Wr17NihUrGDhwIBMmTMDv9wNqI7LPW2+9RVVVVZ1tah+xK+ID84IFCxg/fjzZ2dnEx8dzww034PP5+OCDD4wuTQwwePBgzj//fNq0aXPAvg8++AC/388NN9xAfHw82dnZTJgwgfnz5xtQqRhh8uTJdO/eHbvdTkpKCldeeSX5+fmUlZUBaiMCHTt2JDU1NfzcbDZTVFSkNiJ17N69myeeeILp06fX2a72EbsiOjBXVFSwY8cOevbsGd5mtVrJyck54E9oInl5eXTr1g2r1Rre1qNHD7Zt24bT6TSwMjHKJ598QqtWrcIBSW1EAD788EP69u1Ljx49mDFjBuPGjSMjIwNQG5HQUNDbb7+da665hpYtW9bZp/YRu6yHP8Q4tY0vJSWlzvaUlBQ1TDmA0+kkOTm5zrbaoOR0OklKSjKiLDHIZ599xqxZs3jqqafC29RGBGDo0KGsWrWK0tJS3nrrLbKyssL71EZkwYIFBINBLrvssgP2qX3ErogOzLUNr7y8vM728vLyOh9wIhBqLwUFBXW21f6ZVR9isWX58uXccsstPPzwwwwZMiS8XW1E9peWlsbYsWM59dRT6dChA127dlUbiXFbt27lmWeeYeHChQfdr/YRuyJ6SEZycjKtWrVi/fr14W0+n4+NGzeSk5NjYGUSiXJycti4cWOdmTPWr19PmzZt9EEWQ9555x1uvvlmHn/8cUaOHFlnn9qI/FIgEMDn87FlyxZAbSTW1f7l4eKLL6Zfv37069cPgOuuu44777xT7SOGRXRgBhg9ejRz5sxh06ZNVFVV8eSTT2Kz2Q74RSixwe/3U11djdfrBcDj8VBdXU0gEGDkyJFYLBZmzpxJVVUV3333HXPmzGHMmDEGVy0nyvz585k+fTqzZ89m8ODBB+xXG5G5c+dSWFgIQHFxMffeey82m43c3FxAbSTWnXPOOSxdupS33347/AUwbdo0Jk+erPYRw0zBCJ88sHYe5tdeew2n00n37t256667yM7ONro0McDixYuZOnXqAdtffvll+vXrR35+PtOmTWPDhg0kJSVx+eWX8+c//xmTyWRAtXKiZWdnY7Vasdvtdbb//e9/p2/fvgBqIzHuqquuYv369bhcLpKSkujevTuTJk2iR48e4WPURmR/2dnZvPjii5x++umA2kesivjALCIiIiJipIgfkiEiIiIiYiQFZhERERGReigwi4iIiIjUQ4FZRERERKQeCswiIiIiIvVQYBYRERERqYcCs4iIiIhIPRSYRUQizJQpUxg1atQxXcPn85Gdnc3ixYsbqCoRkdhlNboAERGp69prr8Xj8RhdhoiI1FBgFhGJMG3btjW6BBER2Y+GZIiIRJj9h2TMnDmTIUOGsHr1ai688EJ69erFqFGj+PHHH+uc8+2333LxxRfTo0cPLrnkEvLy8g64rt/vZ9asWQwfPpzu3btz3nnnsXTp0vD+VatW0bVr1zrbtm7dSq9evZgzZ85xerciIpFPgVlEJMI5nU7uvfdexo8fz2OPPUZxcTE333xzeH9lZSUTJ07EZrPx5JNPctFFF9XZX+vee+9lzpw5jB07ltmzZzNgwACuu+461q1bB0Dfvn254ooruOeeeygtLSUYDHL77bfTtWtXxo0bd6LerohIxNGQDBGRCFdZWcm0adPo1asXAF6vl+uvv55du3bRokULFi9ejNPp5JlnniEjIwOAQCDAfffdF77Gli1beO2113jiiSc4++yzARg4cCDbtm3j2Wef5W9/+xsAN910Ex9++CH33Xcfp5xyCt988w1vvfUWZrP6V0QkdukTUEQkwiUmJobDMkCnTp0AKCgoAELDMXr16hUOywDDhg2rc42VK1dis9kYOnQoPp8v/NW/f382bNhQ57Xuu+8+3n33XR588EGuu+668OuJiMQq9TCLiES45OTkOs9tNhsA1dXVABQWFtYJy8ABz0tKSvB4PJxyyikHXN9sNhMIBMK9yLm5uWRlZVFYWMgll1zSYO9DRCRaKTCLiES5Jk2asHPnzjrbiouL6zxPTU0lPj6e+fPnH/Qa+w+5mDVrFm63m6ZNm/LQQw8xY8aMhi9aRCSKKDCLiES57t278/7771NcXBzuWV6+fHmdY/r160dVVRUej4c+ffoc8lobN27k+eef5/777yczM5OJEydy7rnnMmTIkOP6HkREIpkCs4hIlLv44ouZNWsW11xzDVdddRW7d+8+oCe5U6dOXHbZZVx33XVMnDiRrl274nK5yM/Px+Vyccstt+D1epk6dSqDBg3iwgsvDF/7rrvu4t133yUpKcmItyciYjjd9CciEuUcDgfPPfccXq+XG264gddff52HH374gOPuueceJkyYwMKFC5k4cSJ33nknq1evJjc3F4DZs2ezY8cOpk2bFj5n6tSpBAIBHnrooRP2fkREIo0pGAwGjS5CRERERCRSqYdZRERERKQeCswiIiIiIvVQYBYRERERqYcCs4iIiIhIPRSYRURERETqocAsIiIiIlKP/wc2QHx/vTkdsAAAAABJRU5ErkJggg==\" class=\"pd_save\"></center>\n",
       "                        \n",
       "                    \n",
       "                \n",
       "        </div>\n",
       "    "
      ],
      "text/plain": [
       "<IPython.core.display.HTML object>"
      ]
     },
     "metadata": {},
     "output_type": "display_data"
    }
   ],
   "source": [
    "wError = pd.DataFrame(np.rad2deg(list(map(lambda x: wrapAroundPi(x),\n",
    "                                          w-dataset[['dPsi1', 'dTheta1', 'dPhi1']].values[:limit]))),\n",
    "                      columns=['dPsi1', 'dTheta1', 'dPhi1'])\n",
    "wError['index'] = wError.index\n",
    "display(wError[:50])"
   ]
  },
  {
   "cell_type": "code",
   "execution_count": 52,
   "metadata": {
    "pixiedust": {
     "displayParams": {
      "aggregation": "SUM",
      "handlerId": "lineChart",
      "keyFields": "index",
      "rendererId": "matplotlib",
      "rowCount": "500",
      "valueFields": "psi1,theta1,phi1"
     }
    }
   },
   "outputs": [
    {
     "data": {
      "text/html": [
       "<style type=\"text/css\">.pd_warning{display:none;}</style><div class=\"pd_warning\"><em>Hey, there's something awesome here! To see it, open this notebook outside GitHub, in a viewer like Jupyter</em></div>\n",
       "        <div class=\"pd_save is-viewer-good\" style=\"padding-right:10px;text-align: center;line-height:initial !important;font-size: xx-large;font-weight: 500;color: coral;\">\n",
       "            \n",
       "        </div>\n",
       "    \n",
       "        <div id=\"chartFigure3df98fb5\" class=\"pd_save\" style=\"overflow-x:auto\">\n",
       "            \n",
       "                    \n",
       "                            <center><img style=\"max-width:initial !important\" src=\"data:image/png;base64,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\" class=\"pd_save\"></center>\n",
       "                        \n",
       "                    \n",
       "                \n",
       "        </div>\n",
       "    "
      ],
      "text/plain": [
       "<IPython.core.display.HTML object>"
      ]
     },
     "metadata": {},
     "output_type": "display_data"
    }
   ],
   "source": [
    "orientationError = pd.DataFrame(np.rad2deg(list(map(lambda x: wrapAroundPi(x),\n",
    "                                                    euler-dataset[['psi1', 'theta1', 'phi1']].values[:limit]))),\n",
    "                                columns=['psi1', 'theta1', 'phi1'])\n",
    "orientationError['index'] = orientationError.index\n",
    "display(orientationError[:50])"
   ]
  },
  {
   "cell_type": "code",
   "execution_count": 51,
   "metadata": {
    "pixiedust": {
     "displayParams": {
      "aggregation": "SUM",
      "handlerId": "lineChart",
      "keyFields": "index",
      "rendererId": "matplotlib",
      "rowCount": "500",
      "valueFields": "x1,y1,z1"
     }
    }
   },
   "outputs": [
    {
     "data": {
      "text/html": [
       "<style type=\"text/css\">.pd_warning{display:none;}</style><div class=\"pd_warning\"><em>Hey, there's something awesome here! To see it, open this notebook outside GitHub, in a viewer like Jupyter</em></div>\n",
       "        <div class=\"pd_save is-viewer-good\" style=\"padding-right:10px;text-align: center;line-height:initial !important;font-size: xx-large;font-weight: 500;color: coral;\">\n",
       "            \n",
       "        </div>\n",
       "    \n",
       "        <div id=\"chartFigure8f30ed2d\" class=\"pd_save\" style=\"overflow-x:auto\">\n",
       "            \n",
       "                    \n",
       "                            <center><img style=\"max-width:initial !important\" src=\"data:image/png;base64,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\" class=\"pd_save\"></center>\n",
       "                        \n",
       "                    \n",
       "                \n",
       "        </div>\n",
       "    "
      ],
      "text/plain": [
       "<IPython.core.display.HTML object>"
      ]
     },
     "metadata": {},
     "output_type": "display_data"
    }
   ],
   "source": [
    "positionError = pd.DataFrame(positions-dataset[['x1', 'y1', 'z1']].values[:limit], columns=['x1', 'y1', 'z1'])\n",
    "positionError['index'] = positionError.index\n",
    "display(positionError[:50])"
   ]
  },
  {
   "cell_type": "code",
   "execution_count": 157,
   "metadata": {},
   "outputs": [
    {
     "data": {
      "text/plain": [
       "['C:/Users/talaa/PycharmProjects/rl/src/linearModel.model']"
      ]
     },
     "execution_count": 157,
     "metadata": {},
     "output_type": "execute_result"
    }
   ],
   "source": [
    "joblib.dump(model, 'C:/Users/talaa/PycharmProjects/rl/src/linearModel.model')"
   ]
  },
  {
   "cell_type": "code",
   "execution_count": null,
   "metadata": {
    "collapsed": true
   },
   "outputs": [],
   "source": []
  }
 ],
 "metadata": {
  "kernelspec": {
   "display_name": "Python 3",
   "language": "python",
   "name": "python3"
  },
  "language_info": {
   "codemirror_mode": {
    "name": "ipython",
    "version": 3
   },
   "file_extension": ".py",
   "mimetype": "text/x-python",
   "name": "python",
   "nbconvert_exporter": "python",
   "pygments_lexer": "ipython3",
   "version": "3.6.1"
  }
 },
 "nbformat": 4,
 "nbformat_minor": 2
}
