{
 "cells": [
  {
   "cell_type": "code",
   "execution_count": 1,
   "metadata": {},
   "outputs": [],
   "source": [
    "from pyquaternion import Quaternion\n",
    "\n",
    "import numpy as np\n",
    "import sys\n",
    "\n",
    "from VectorMath import *"
   ]
  },
  {
   "cell_type": "code",
   "execution_count": 23,
   "metadata": {},
   "outputs": [],
   "source": [
    "def getAverageAngularVelocity(q1, q2, frequency):\n",
    "    qDiff = q1.inverse * q2\n",
    "    axis, angle = qDiff.axis, qDiff.angle\n",
    "    return axis, angle * frequency\n",
    "\n",
    "def integrateOrientation(q5, w, frequency):\n",
    "    q6 = Quaternion(q5)\n",
    "    q6.integrate(w, 1 / frequency)\n",
    "    \n",
    "    return q6"
   ]
  },
  {
   "cell_type": "code",
   "execution_count": 22,
   "metadata": {},
   "outputs": [
    {
     "name": "stdout",
     "output_type": "stream",
     "text": [
      "after applying angular velocity we get:  [  5.00000000e-04  -6.00000000e+01   1.69000000e+02] True\n"
     ]
    }
   ],
   "source": [
    "q1 = Quaternion(eulerToQuaternion(*np.deg2rad([50.0, -0.0000050, 170.0])))\n",
    "q2 = Quaternion(eulerToQuaternion(*np.deg2rad([.0005, -60.0, 169])))\n",
    "\n",
    "axis, angle = getAverageAngularVelocity(q1, q2, 10.0)\n",
    "q3 = integrateOrientation(q1, axis*angle, 10.0)\n",
    "\n",
    "print('after applying angular velocity we get: ', np.rad2deg(toEulerianAngle(q3)), q3==q2)\n",
    "#print('roation axis: ', axis, 'rotation mag: ', np.rad2deg(angle), 'w: ', np.rad2deg(angle)*axis)"
   ]
  },
  {
   "cell_type": "code",
   "execution_count": null,
   "metadata": {},
   "outputs": [],
   "source": []
  },
  {
   "cell_type": "code",
   "execution_count": null,
   "metadata": {},
   "outputs": [],
   "source": []
  }
 ],
 "metadata": {
  "kernelspec": {
   "display_name": "Python 3",
   "language": "python",
   "name": "python3"
  },
  "language_info": {
   "codemirror_mode": {
    "name": "ipython",
    "version": 3
   },
   "file_extension": ".py",
   "mimetype": "text/x-python",
   "name": "python",
   "nbconvert_exporter": "python",
   "pygments_lexer": "ipython3",
   "version": "3.6.1"
  }
 },
 "nbformat": 4,
 "nbformat_minor": 2
}
